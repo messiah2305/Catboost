{
  "nbformat": 4,
  "nbformat_minor": 0,
  "metadata": {
    "colab": {
      "name": "South Catboost_interhallda.ipynb",
      "provenance": [],
      "collapsed_sections": []
    },
    "kernelspec": {
      "name": "python3",
      "display_name": "Python 3"
    },
    "language_info": {
      "name": "python"
    },
    "widgets": {
      "application/vnd.jupyter.widget-state+json": {
        "b81565355fd94e0b842029d75175ff76": {
          "model_module": "catboost-widget",
          "model_name": "CatboostWidgetModel",
          "model_module_version": "^1.0.0",
          "state": {
            "_view_name": "CatboostWidgetView",
            "_dom_classes": [],
            "_model_name": "CatboostWidgetModel",
            "data": {
              "catboost_info": {
                "content": {
                  "data": {
                    "meta": {
                      "name": "experiment",
                      "parameters": "",
                      "test_metrics": [
                        {
                          "best_value": "Min",
                          "name": "MAPE"
                        }
                      ],
                      "learn_sets": [
                        "learn"
                      ],
                      "launch_mode": "Train",
                      "learn_metrics": [
                        {
                          "best_value": "Min",
                          "name": "MAPE"
                        }
                      ],
                      "iteration_count": 18,
                      "test_sets": [
                        "test"
                      ]
                    },
                    "iterations": [
                      {
                        "test": [
                          0.811107914
                        ],
                        "passed_time": 0.04739254195,
                        "iteration": 0,
                        "remaining_time": 0.8056732132,
                        "learn": [
                          0.8226579124
                        ]
                      },
                      {
                        "test": [
                          0.7985106726
                        ],
                        "passed_time": 0.04910193318,
                        "iteration": 1,
                        "remaining_time": 0.3928154655,
                        "learn": [
                          0.7966919104
                        ]
                      },
                      {
                        "test": [
                          0.7842386913
                        ],
                        "passed_time": 0.05032066074,
                        "iteration": 2,
                        "remaining_time": 0.2516033037,
                        "learn": [
                          0.7719738101
                        ]
                      },
                      {
                        "test": [
                          0.8007614349
                        ],
                        "passed_time": 0.05113603163,
                        "iteration": 3,
                        "remaining_time": 0.1789761107,
                        "learn": [
                          0.7536190483
                        ]
                      },
                      {
                        "test": [
                          0.8112284829
                        ],
                        "passed_time": 0.05191653772,
                        "iteration": 4,
                        "remaining_time": 0.1349829981,
                        "learn": [
                          0.7412859584
                        ]
                      },
                      {
                        "test": [
                          0.806375497
                        ],
                        "passed_time": 0.05275866678,
                        "iteration": 5,
                        "remaining_time": 0.1055173336,
                        "learn": [
                          0.7260776188
                        ]
                      },
                      {
                        "test": [
                          0.7942292172
                        ],
                        "passed_time": 0.05371549468,
                        "iteration": 6,
                        "remaining_time": 0.08441006307,
                        "learn": [
                          0.715405279
                        ]
                      },
                      {
                        "test": [
                          0.7871215329
                        ],
                        "passed_time": 0.05514855985,
                        "iteration": 7,
                        "remaining_time": 0.06893569982,
                        "learn": [
                          0.7034369915
                        ]
                      },
                      {
                        "test": [
                          0.7983417458
                        ],
                        "passed_time": 0.05708167493,
                        "iteration": 8,
                        "remaining_time": 0.05708167493,
                        "learn": [
                          0.6893294339
                        ]
                      },
                      {
                        "test": [
                          0.8598251739
                        ],
                        "passed_time": 0.05905332084,
                        "iteration": 9,
                        "remaining_time": 0.04724265667,
                        "learn": [
                          0.6795105666
                        ]
                      },
                      {
                        "test": [
                          0.8589881284
                        ],
                        "passed_time": 0.06120811968,
                        "iteration": 10,
                        "remaining_time": 0.03895062162,
                        "learn": [
                          0.6737566245
                        ]
                      },
                      {
                        "test": [
                          0.8934021689
                        ],
                        "passed_time": 0.06349643118,
                        "iteration": 11,
                        "remaining_time": 0.03174821559,
                        "learn": [
                          0.6625806299
                        ]
                      },
                      {
                        "test": [
                          0.8897185362
                        ],
                        "passed_time": 0.06564808856,
                        "iteration": 12,
                        "remaining_time": 0.02524926483,
                        "learn": [
                          0.6486956133
                        ]
                      },
                      {
                        "test": [
                          0.9480823658
                        ],
                        "passed_time": 0.0676592076,
                        "iteration": 13,
                        "remaining_time": 0.01933120217,
                        "learn": [
                          0.6422613917
                        ]
                      },
                      {
                        "test": [
                          0.946108225
                        ],
                        "passed_time": 0.06968333708,
                        "iteration": 14,
                        "remaining_time": 0.01393666742,
                        "learn": [
                          0.6330034511
                        ]
                      },
                      {
                        "test": [
                          0.9447303055
                        ],
                        "passed_time": 0.07165488981,
                        "iteration": 15,
                        "remaining_time": 0.008956861226,
                        "learn": [
                          0.6268167598
                        ]
                      },
                      {
                        "test": [
                          0.944149322
                        ],
                        "passed_time": 0.073771031,
                        "iteration": 16,
                        "remaining_time": 0.004339472412,
                        "learn": [
                          0.6237469245
                        ]
                      },
                      {
                        "test": [
                          0.9429818764
                        ],
                        "passed_time": 0.07599813135,
                        "iteration": 17,
                        "remaining_time": 0,
                        "learn": [
                          0.6176442296
                        ]
                      }
                    ]
                  },
                  "total_iterations": 18,
                  "passed_iterations": 17
                },
                "path": "catboost_info",
                "name": "catboost_info"
              }
            },
            "_view_module": "catboost-widget",
            "_model_module_version": "^1.0.0",
            "_view_count": null,
            "_view_module_version": "^1.0.0",
            "layout": "IPY_MODEL_ae0ecef4b11e4749b625f466215d55d3",
            "_model_module": "catboost-widget"
          }
        }
      }
    }
  },
  "cells": [
    {
      "cell_type": "code",
      "execution_count": null,
      "metadata": {
        "colab": {
          "base_uri": "https://localhost:8080/"
        },
        "id": "jeGDxX_xcpi1",
        "outputId": "b7aa7f9c-bf41-457b-c16a-30ee112ed829"
      },
      "outputs": [
        {
          "output_type": "stream",
          "name": "stdout",
          "text": [
            "Collecting catboost\n",
            "  Downloading catboost-1.0.4-cp37-none-manylinux1_x86_64.whl (76.1 MB)\n",
            "\u001b[K     |████████████████████████████████| 76.1 MB 46 kB/s \n",
            "\u001b[?25hRequirement already satisfied: numpy>=1.16.0 in /usr/local/lib/python3.7/dist-packages (from catboost) (1.21.5)\n",
            "Requirement already satisfied: scipy in /usr/local/lib/python3.7/dist-packages (from catboost) (1.4.1)\n",
            "Requirement already satisfied: graphviz in /usr/local/lib/python3.7/dist-packages (from catboost) (0.10.1)\n",
            "Requirement already satisfied: matplotlib in /usr/local/lib/python3.7/dist-packages (from catboost) (3.2.2)\n",
            "Requirement already satisfied: six in /usr/local/lib/python3.7/dist-packages (from catboost) (1.15.0)\n",
            "Requirement already satisfied: pandas>=0.24.0 in /usr/local/lib/python3.7/dist-packages (from catboost) (1.3.5)\n",
            "Requirement already satisfied: plotly in /usr/local/lib/python3.7/dist-packages (from catboost) (5.5.0)\n",
            "Requirement already satisfied: pytz>=2017.3 in /usr/local/lib/python3.7/dist-packages (from pandas>=0.24.0->catboost) (2018.9)\n",
            "Requirement already satisfied: python-dateutil>=2.7.3 in /usr/local/lib/python3.7/dist-packages (from pandas>=0.24.0->catboost) (2.8.2)\n",
            "Requirement already satisfied: pyparsing!=2.0.4,!=2.1.2,!=2.1.6,>=2.0.1 in /usr/local/lib/python3.7/dist-packages (from matplotlib->catboost) (3.0.7)\n",
            "Requirement already satisfied: kiwisolver>=1.0.1 in /usr/local/lib/python3.7/dist-packages (from matplotlib->catboost) (1.3.2)\n",
            "Requirement already satisfied: cycler>=0.10 in /usr/local/lib/python3.7/dist-packages (from matplotlib->catboost) (0.11.0)\n",
            "Requirement already satisfied: tenacity>=6.2.0 in /usr/local/lib/python3.7/dist-packages (from plotly->catboost) (8.0.1)\n",
            "Installing collected packages: catboost\n",
            "Successfully installed catboost-1.0.4\n"
          ]
        }
      ],
      "source": [
        "import numpy as np\n",
        "import seaborn as sns\n",
        "import matplotlib.pyplot as plt\n",
        "import pandas as pd\n",
        "from datetime import datetime\n",
        "import warnings\n",
        "warnings.filterwarnings('ignore')\n",
        "!pip install catboost\n",
        "from sklearn.metrics import mean_absolute_percentage_error\n"
      ]
    },
    {
      "cell_type": "code",
      "source": [
        "def mape(actual, pred): \n",
        "    actual, pred = np.array(actual), np.array(pred)\n",
        "    mape_arr=(np.abs(actual - pred) / actual)*100\n",
        "    return (mape_arr,np.mean( (np.abs(actual - pred) / actual) * 100))"
      ],
      "metadata": {
        "id": "g9L1Ie4udv51"
      },
      "execution_count": null,
      "outputs": []
    },
    {
      "cell_type": "code",
      "source": [
        "df1=pd.read_csv('stackedSouth_test.csv')\n",
        "df1\n",
        "df1=df1.drop(['Unnamed: 0'],axis=1)\n",
        "df1\n",
        "df1=df1.drop(['SKU_id'],axis=1)\n",
        "df1\n",
        "df1.rename(columns = {'Jul_20':'1','Aug_20':'2','Sep_20':'3','Oct_20':'4','Nov_20':'5','Dec_20':'6','Jan_21':'7','Feb_21':'8','Mar_21':'9','Apr_21':'10','May_21':'11'}, inplace = True)\n",
        "df1"
      ],
      "metadata": {
        "colab": {
          "base_uri": "https://localhost:8080/",
          "height": 423
        },
        "id": "S1125LC3ctV9",
        "outputId": "b4b9f833-0bd3-4e33-cdca-20b148396215"
      },
      "execution_count": null,
      "outputs": [
        {
          "output_type": "execute_result",
          "data": {
            "text/html": [
              "\n",
              "  <div id=\"df-649d5fce-91cc-4d82-bb90-4a6a0fb65a1a\">\n",
              "    <div class=\"colab-df-container\">\n",
              "      <div>\n",
              "<style scoped>\n",
              "    .dataframe tbody tr th:only-of-type {\n",
              "        vertical-align: middle;\n",
              "    }\n",
              "\n",
              "    .dataframe tbody tr th {\n",
              "        vertical-align: top;\n",
              "    }\n",
              "\n",
              "    .dataframe thead th {\n",
              "        text-align: right;\n",
              "    }\n",
              "</style>\n",
              "<table border=\"1\" class=\"dataframe\">\n",
              "  <thead>\n",
              "    <tr style=\"text-align: right;\">\n",
              "      <th></th>\n",
              "      <th>1</th>\n",
              "      <th>2</th>\n",
              "      <th>3</th>\n",
              "      <th>4</th>\n",
              "      <th>5</th>\n",
              "      <th>6</th>\n",
              "      <th>7</th>\n",
              "      <th>8</th>\n",
              "      <th>9</th>\n",
              "      <th>10</th>\n",
              "      <th>11</th>\n",
              "    </tr>\n",
              "  </thead>\n",
              "  <tbody>\n",
              "    <tr>\n",
              "      <th>0</th>\n",
              "      <td>28</td>\n",
              "      <td>31</td>\n",
              "      <td>328</td>\n",
              "      <td>2374</td>\n",
              "      <td>34</td>\n",
              "      <td>19</td>\n",
              "      <td>37</td>\n",
              "      <td>76</td>\n",
              "      <td>73</td>\n",
              "      <td>112</td>\n",
              "      <td>19</td>\n",
              "    </tr>\n",
              "    <tr>\n",
              "      <th>1</th>\n",
              "      <td>10</td>\n",
              "      <td>42</td>\n",
              "      <td>70</td>\n",
              "      <td>10</td>\n",
              "      <td>38</td>\n",
              "      <td>22</td>\n",
              "      <td>18</td>\n",
              "      <td>50</td>\n",
              "      <td>74</td>\n",
              "      <td>30</td>\n",
              "      <td>50</td>\n",
              "    </tr>\n",
              "    <tr>\n",
              "      <th>2</th>\n",
              "      <td>15</td>\n",
              "      <td>15</td>\n",
              "      <td>15</td>\n",
              "      <td>15</td>\n",
              "      <td>15</td>\n",
              "      <td>15</td>\n",
              "      <td>15</td>\n",
              "      <td>15</td>\n",
              "      <td>15</td>\n",
              "      <td>23</td>\n",
              "      <td>15</td>\n",
              "    </tr>\n",
              "    <tr>\n",
              "      <th>3</th>\n",
              "      <td>64</td>\n",
              "      <td>116</td>\n",
              "      <td>4058</td>\n",
              "      <td>954</td>\n",
              "      <td>112</td>\n",
              "      <td>32</td>\n",
              "      <td>200</td>\n",
              "      <td>206</td>\n",
              "      <td>152</td>\n",
              "      <td>190</td>\n",
              "      <td>64</td>\n",
              "    </tr>\n",
              "    <tr>\n",
              "      <th>4</th>\n",
              "      <td>136</td>\n",
              "      <td>352</td>\n",
              "      <td>2089</td>\n",
              "      <td>730</td>\n",
              "      <td>178</td>\n",
              "      <td>130</td>\n",
              "      <td>154</td>\n",
              "      <td>364</td>\n",
              "      <td>817</td>\n",
              "      <td>727</td>\n",
              "      <td>40</td>\n",
              "    </tr>\n",
              "    <tr>\n",
              "      <th>...</th>\n",
              "      <td>...</td>\n",
              "      <td>...</td>\n",
              "      <td>...</td>\n",
              "      <td>...</td>\n",
              "      <td>...</td>\n",
              "      <td>...</td>\n",
              "      <td>...</td>\n",
              "      <td>...</td>\n",
              "      <td>...</td>\n",
              "      <td>...</td>\n",
              "      <td>...</td>\n",
              "    </tr>\n",
              "    <tr>\n",
              "      <th>281</th>\n",
              "      <td>103</td>\n",
              "      <td>591</td>\n",
              "      <td>167</td>\n",
              "      <td>455</td>\n",
              "      <td>215</td>\n",
              "      <td>135</td>\n",
              "      <td>239</td>\n",
              "      <td>295</td>\n",
              "      <td>7</td>\n",
              "      <td>7</td>\n",
              "      <td>135</td>\n",
              "    </tr>\n",
              "    <tr>\n",
              "      <th>282</th>\n",
              "      <td>9</td>\n",
              "      <td>9</td>\n",
              "      <td>9</td>\n",
              "      <td>21</td>\n",
              "      <td>133</td>\n",
              "      <td>9</td>\n",
              "      <td>33</td>\n",
              "      <td>9</td>\n",
              "      <td>103</td>\n",
              "      <td>49</td>\n",
              "      <td>9</td>\n",
              "    </tr>\n",
              "    <tr>\n",
              "      <th>283</th>\n",
              "      <td>13</td>\n",
              "      <td>13</td>\n",
              "      <td>13</td>\n",
              "      <td>13</td>\n",
              "      <td>13</td>\n",
              "      <td>13</td>\n",
              "      <td>21</td>\n",
              "      <td>13</td>\n",
              "      <td>13</td>\n",
              "      <td>13</td>\n",
              "      <td>13</td>\n",
              "    </tr>\n",
              "    <tr>\n",
              "      <th>284</th>\n",
              "      <td>9</td>\n",
              "      <td>9</td>\n",
              "      <td>9</td>\n",
              "      <td>17</td>\n",
              "      <td>13</td>\n",
              "      <td>11</td>\n",
              "      <td>36</td>\n",
              "      <td>21</td>\n",
              "      <td>17</td>\n",
              "      <td>9</td>\n",
              "      <td>9</td>\n",
              "    </tr>\n",
              "    <tr>\n",
              "      <th>285</th>\n",
              "      <td>15</td>\n",
              "      <td>15</td>\n",
              "      <td>15</td>\n",
              "      <td>15</td>\n",
              "      <td>15</td>\n",
              "      <td>225</td>\n",
              "      <td>423</td>\n",
              "      <td>327</td>\n",
              "      <td>783</td>\n",
              "      <td>375</td>\n",
              "      <td>33</td>\n",
              "    </tr>\n",
              "  </tbody>\n",
              "</table>\n",
              "<p>286 rows × 11 columns</p>\n",
              "</div>\n",
              "      <button class=\"colab-df-convert\" onclick=\"convertToInteractive('df-649d5fce-91cc-4d82-bb90-4a6a0fb65a1a')\"\n",
              "              title=\"Convert this dataframe to an interactive table.\"\n",
              "              style=\"display:none;\">\n",
              "        \n",
              "  <svg xmlns=\"http://www.w3.org/2000/svg\" height=\"24px\"viewBox=\"0 0 24 24\"\n",
              "       width=\"24px\">\n",
              "    <path d=\"M0 0h24v24H0V0z\" fill=\"none\"/>\n",
              "    <path d=\"M18.56 5.44l.94 2.06.94-2.06 2.06-.94-2.06-.94-.94-2.06-.94 2.06-2.06.94zm-11 1L8.5 8.5l.94-2.06 2.06-.94-2.06-.94L8.5 2.5l-.94 2.06-2.06.94zm10 10l.94 2.06.94-2.06 2.06-.94-2.06-.94-.94-2.06-.94 2.06-2.06.94z\"/><path d=\"M17.41 7.96l-1.37-1.37c-.4-.4-.92-.59-1.43-.59-.52 0-1.04.2-1.43.59L10.3 9.45l-7.72 7.72c-.78.78-.78 2.05 0 2.83L4 21.41c.39.39.9.59 1.41.59.51 0 1.02-.2 1.41-.59l7.78-7.78 2.81-2.81c.8-.78.8-2.07 0-2.86zM5.41 20L4 18.59l7.72-7.72 1.47 1.35L5.41 20z\"/>\n",
              "  </svg>\n",
              "      </button>\n",
              "      \n",
              "  <style>\n",
              "    .colab-df-container {\n",
              "      display:flex;\n",
              "      flex-wrap:wrap;\n",
              "      gap: 12px;\n",
              "    }\n",
              "\n",
              "    .colab-df-convert {\n",
              "      background-color: #E8F0FE;\n",
              "      border: none;\n",
              "      border-radius: 50%;\n",
              "      cursor: pointer;\n",
              "      display: none;\n",
              "      fill: #1967D2;\n",
              "      height: 32px;\n",
              "      padding: 0 0 0 0;\n",
              "      width: 32px;\n",
              "    }\n",
              "\n",
              "    .colab-df-convert:hover {\n",
              "      background-color: #E2EBFA;\n",
              "      box-shadow: 0px 1px 2px rgba(60, 64, 67, 0.3), 0px 1px 3px 1px rgba(60, 64, 67, 0.15);\n",
              "      fill: #174EA6;\n",
              "    }\n",
              "\n",
              "    [theme=dark] .colab-df-convert {\n",
              "      background-color: #3B4455;\n",
              "      fill: #D2E3FC;\n",
              "    }\n",
              "\n",
              "    [theme=dark] .colab-df-convert:hover {\n",
              "      background-color: #434B5C;\n",
              "      box-shadow: 0px 1px 3px 1px rgba(0, 0, 0, 0.15);\n",
              "      filter: drop-shadow(0px 1px 2px rgba(0, 0, 0, 0.3));\n",
              "      fill: #FFFFFF;\n",
              "    }\n",
              "  </style>\n",
              "\n",
              "      <script>\n",
              "        const buttonEl =\n",
              "          document.querySelector('#df-649d5fce-91cc-4d82-bb90-4a6a0fb65a1a button.colab-df-convert');\n",
              "        buttonEl.style.display =\n",
              "          google.colab.kernel.accessAllowed ? 'block' : 'none';\n",
              "\n",
              "        async function convertToInteractive(key) {\n",
              "          const element = document.querySelector('#df-649d5fce-91cc-4d82-bb90-4a6a0fb65a1a');\n",
              "          const dataTable =\n",
              "            await google.colab.kernel.invokeFunction('convertToInteractive',\n",
              "                                                     [key], {});\n",
              "          if (!dataTable) return;\n",
              "\n",
              "          const docLinkHtml = 'Like what you see? Visit the ' +\n",
              "            '<a target=\"_blank\" href=https://colab.research.google.com/notebooks/data_table.ipynb>data table notebook</a>'\n",
              "            + ' to learn more about interactive tables.';\n",
              "          element.innerHTML = '';\n",
              "          dataTable['output_type'] = 'display_data';\n",
              "          await google.colab.output.renderOutput(dataTable, element);\n",
              "          const docLink = document.createElement('div');\n",
              "          docLink.innerHTML = docLinkHtml;\n",
              "          element.appendChild(docLink);\n",
              "        }\n",
              "      </script>\n",
              "    </div>\n",
              "  </div>\n",
              "  "
            ],
            "text/plain": [
              "       1    2     3     4    5    6    7    8    9   10   11\n",
              "0     28   31   328  2374   34   19   37   76   73  112   19\n",
              "1     10   42    70    10   38   22   18   50   74   30   50\n",
              "2     15   15    15    15   15   15   15   15   15   23   15\n",
              "3     64  116  4058   954  112   32  200  206  152  190   64\n",
              "4    136  352  2089   730  178  130  154  364  817  727   40\n",
              "..   ...  ...   ...   ...  ...  ...  ...  ...  ...  ...  ...\n",
              "281  103  591   167   455  215  135  239  295    7    7  135\n",
              "282    9    9     9    21  133    9   33    9  103   49    9\n",
              "283   13   13    13    13   13   13   21   13   13   13   13\n",
              "284    9    9     9    17   13   11   36   21   17    9    9\n",
              "285   15   15    15    15   15  225  423  327  783  375   33\n",
              "\n",
              "[286 rows x 11 columns]"
            ]
          },
          "metadata": {},
          "execution_count": 3
        }
      ]
    },
    {
      "cell_type": "code",
      "source": [
        "df2=pd.read_csv('stackedSouth_train.csv')\n",
        "df2=df2.drop(['12'],axis=1)\n",
        "df2=df2.drop(['Unnamed: 0'],axis=1)\n",
        "df2\n",
        "df2=df2.drop(['0'],axis=1)\n",
        "df2"
      ],
      "metadata": {
        "colab": {
          "base_uri": "https://localhost:8080/",
          "height": 423
        },
        "id": "S1f6nX7-c-Wv",
        "outputId": "7c925054-4143-4c3d-a9ff-91a0ecc8d274"
      },
      "execution_count": null,
      "outputs": [
        {
          "output_type": "execute_result",
          "data": {
            "text/html": [
              "\n",
              "  <div id=\"df-7eff4dee-be38-431f-a418-685219023c7a\">\n",
              "    <div class=\"colab-df-container\">\n",
              "      <div>\n",
              "<style scoped>\n",
              "    .dataframe tbody tr th:only-of-type {\n",
              "        vertical-align: middle;\n",
              "    }\n",
              "\n",
              "    .dataframe tbody tr th {\n",
              "        vertical-align: top;\n",
              "    }\n",
              "\n",
              "    .dataframe thead th {\n",
              "        text-align: right;\n",
              "    }\n",
              "</style>\n",
              "<table border=\"1\" class=\"dataframe\">\n",
              "  <thead>\n",
              "    <tr style=\"text-align: right;\">\n",
              "      <th></th>\n",
              "      <th>1</th>\n",
              "      <th>2</th>\n",
              "      <th>3</th>\n",
              "      <th>4</th>\n",
              "      <th>5</th>\n",
              "      <th>6</th>\n",
              "      <th>7</th>\n",
              "      <th>8</th>\n",
              "      <th>9</th>\n",
              "      <th>10</th>\n",
              "      <th>11</th>\n",
              "    </tr>\n",
              "  </thead>\n",
              "  <tbody>\n",
              "    <tr>\n",
              "      <th>0</th>\n",
              "      <td>226</td>\n",
              "      <td>19</td>\n",
              "      <td>40</td>\n",
              "      <td>52</td>\n",
              "      <td>79</td>\n",
              "      <td>58</td>\n",
              "      <td>82</td>\n",
              "      <td>64</td>\n",
              "      <td>235</td>\n",
              "      <td>85</td>\n",
              "      <td>82</td>\n",
              "    </tr>\n",
              "    <tr>\n",
              "      <th>1</th>\n",
              "      <td>58</td>\n",
              "      <td>38</td>\n",
              "      <td>18</td>\n",
              "      <td>22</td>\n",
              "      <td>22</td>\n",
              "      <td>58</td>\n",
              "      <td>70</td>\n",
              "      <td>14</td>\n",
              "      <td>130</td>\n",
              "      <td>90</td>\n",
              "      <td>126</td>\n",
              "    </tr>\n",
              "    <tr>\n",
              "      <th>2</th>\n",
              "      <td>15</td>\n",
              "      <td>15</td>\n",
              "      <td>15</td>\n",
              "      <td>15</td>\n",
              "      <td>15</td>\n",
              "      <td>15</td>\n",
              "      <td>15</td>\n",
              "      <td>15</td>\n",
              "      <td>15</td>\n",
              "      <td>15</td>\n",
              "      <td>19</td>\n",
              "    </tr>\n",
              "    <tr>\n",
              "      <th>3</th>\n",
              "      <td>54</td>\n",
              "      <td>58</td>\n",
              "      <td>224</td>\n",
              "      <td>204</td>\n",
              "      <td>86</td>\n",
              "      <td>190</td>\n",
              "      <td>108</td>\n",
              "      <td>94</td>\n",
              "      <td>310</td>\n",
              "      <td>224</td>\n",
              "      <td>140</td>\n",
              "    </tr>\n",
              "    <tr>\n",
              "      <th>4</th>\n",
              "      <td>244</td>\n",
              "      <td>127</td>\n",
              "      <td>130</td>\n",
              "      <td>232</td>\n",
              "      <td>169</td>\n",
              "      <td>154</td>\n",
              "      <td>58</td>\n",
              "      <td>130</td>\n",
              "      <td>166</td>\n",
              "      <td>271</td>\n",
              "      <td>337</td>\n",
              "    </tr>\n",
              "    <tr>\n",
              "      <th>...</th>\n",
              "      <td>...</td>\n",
              "      <td>...</td>\n",
              "      <td>...</td>\n",
              "      <td>...</td>\n",
              "      <td>...</td>\n",
              "      <td>...</td>\n",
              "      <td>...</td>\n",
              "      <td>...</td>\n",
              "      <td>...</td>\n",
              "      <td>...</td>\n",
              "      <td>...</td>\n",
              "    </tr>\n",
              "    <tr>\n",
              "      <th>567</th>\n",
              "      <td>7</td>\n",
              "      <td>7</td>\n",
              "      <td>7</td>\n",
              "      <td>7</td>\n",
              "      <td>7</td>\n",
              "      <td>107</td>\n",
              "      <td>103</td>\n",
              "      <td>71</td>\n",
              "      <td>35</td>\n",
              "      <td>7</td>\n",
              "      <td>7</td>\n",
              "    </tr>\n",
              "    <tr>\n",
              "      <th>568</th>\n",
              "      <td>29</td>\n",
              "      <td>21</td>\n",
              "      <td>33</td>\n",
              "      <td>61</td>\n",
              "      <td>65</td>\n",
              "      <td>13</td>\n",
              "      <td>13</td>\n",
              "      <td>33</td>\n",
              "      <td>9</td>\n",
              "      <td>49</td>\n",
              "      <td>25</td>\n",
              "    </tr>\n",
              "    <tr>\n",
              "      <th>569</th>\n",
              "      <td>13</td>\n",
              "      <td>13</td>\n",
              "      <td>21</td>\n",
              "      <td>13</td>\n",
              "      <td>21</td>\n",
              "      <td>13</td>\n",
              "      <td>13</td>\n",
              "      <td>13</td>\n",
              "      <td>13</td>\n",
              "      <td>21</td>\n",
              "      <td>13</td>\n",
              "    </tr>\n",
              "    <tr>\n",
              "      <th>570</th>\n",
              "      <td>13</td>\n",
              "      <td>17</td>\n",
              "      <td>11</td>\n",
              "      <td>9</td>\n",
              "      <td>21</td>\n",
              "      <td>9</td>\n",
              "      <td>9</td>\n",
              "      <td>17</td>\n",
              "      <td>13</td>\n",
              "      <td>15</td>\n",
              "      <td>13</td>\n",
              "    </tr>\n",
              "    <tr>\n",
              "      <th>571</th>\n",
              "      <td>15</td>\n",
              "      <td>15</td>\n",
              "      <td>27</td>\n",
              "      <td>15</td>\n",
              "      <td>15</td>\n",
              "      <td>15</td>\n",
              "      <td>15</td>\n",
              "      <td>15</td>\n",
              "      <td>69</td>\n",
              "      <td>252</td>\n",
              "      <td>105</td>\n",
              "    </tr>\n",
              "  </tbody>\n",
              "</table>\n",
              "<p>572 rows × 11 columns</p>\n",
              "</div>\n",
              "      <button class=\"colab-df-convert\" onclick=\"convertToInteractive('df-7eff4dee-be38-431f-a418-685219023c7a')\"\n",
              "              title=\"Convert this dataframe to an interactive table.\"\n",
              "              style=\"display:none;\">\n",
              "        \n",
              "  <svg xmlns=\"http://www.w3.org/2000/svg\" height=\"24px\"viewBox=\"0 0 24 24\"\n",
              "       width=\"24px\">\n",
              "    <path d=\"M0 0h24v24H0V0z\" fill=\"none\"/>\n",
              "    <path d=\"M18.56 5.44l.94 2.06.94-2.06 2.06-.94-2.06-.94-.94-2.06-.94 2.06-2.06.94zm-11 1L8.5 8.5l.94-2.06 2.06-.94-2.06-.94L8.5 2.5l-.94 2.06-2.06.94zm10 10l.94 2.06.94-2.06 2.06-.94-2.06-.94-.94-2.06-.94 2.06-2.06.94z\"/><path d=\"M17.41 7.96l-1.37-1.37c-.4-.4-.92-.59-1.43-.59-.52 0-1.04.2-1.43.59L10.3 9.45l-7.72 7.72c-.78.78-.78 2.05 0 2.83L4 21.41c.39.39.9.59 1.41.59.51 0 1.02-.2 1.41-.59l7.78-7.78 2.81-2.81c.8-.78.8-2.07 0-2.86zM5.41 20L4 18.59l7.72-7.72 1.47 1.35L5.41 20z\"/>\n",
              "  </svg>\n",
              "      </button>\n",
              "      \n",
              "  <style>\n",
              "    .colab-df-container {\n",
              "      display:flex;\n",
              "      flex-wrap:wrap;\n",
              "      gap: 12px;\n",
              "    }\n",
              "\n",
              "    .colab-df-convert {\n",
              "      background-color: #E8F0FE;\n",
              "      border: none;\n",
              "      border-radius: 50%;\n",
              "      cursor: pointer;\n",
              "      display: none;\n",
              "      fill: #1967D2;\n",
              "      height: 32px;\n",
              "      padding: 0 0 0 0;\n",
              "      width: 32px;\n",
              "    }\n",
              "\n",
              "    .colab-df-convert:hover {\n",
              "      background-color: #E2EBFA;\n",
              "      box-shadow: 0px 1px 2px rgba(60, 64, 67, 0.3), 0px 1px 3px 1px rgba(60, 64, 67, 0.15);\n",
              "      fill: #174EA6;\n",
              "    }\n",
              "\n",
              "    [theme=dark] .colab-df-convert {\n",
              "      background-color: #3B4455;\n",
              "      fill: #D2E3FC;\n",
              "    }\n",
              "\n",
              "    [theme=dark] .colab-df-convert:hover {\n",
              "      background-color: #434B5C;\n",
              "      box-shadow: 0px 1px 3px 1px rgba(0, 0, 0, 0.15);\n",
              "      filter: drop-shadow(0px 1px 2px rgba(0, 0, 0, 0.3));\n",
              "      fill: #FFFFFF;\n",
              "    }\n",
              "  </style>\n",
              "\n",
              "      <script>\n",
              "        const buttonEl =\n",
              "          document.querySelector('#df-7eff4dee-be38-431f-a418-685219023c7a button.colab-df-convert');\n",
              "        buttonEl.style.display =\n",
              "          google.colab.kernel.accessAllowed ? 'block' : 'none';\n",
              "\n",
              "        async function convertToInteractive(key) {\n",
              "          const element = document.querySelector('#df-7eff4dee-be38-431f-a418-685219023c7a');\n",
              "          const dataTable =\n",
              "            await google.colab.kernel.invokeFunction('convertToInteractive',\n",
              "                                                     [key], {});\n",
              "          if (!dataTable) return;\n",
              "\n",
              "          const docLinkHtml = 'Like what you see? Visit the ' +\n",
              "            '<a target=\"_blank\" href=https://colab.research.google.com/notebooks/data_table.ipynb>data table notebook</a>'\n",
              "            + ' to learn more about interactive tables.';\n",
              "          element.innerHTML = '';\n",
              "          dataTable['output_type'] = 'display_data';\n",
              "          await google.colab.output.renderOutput(dataTable, element);\n",
              "          const docLink = document.createElement('div');\n",
              "          docLink.innerHTML = docLinkHtml;\n",
              "          element.appendChild(docLink);\n",
              "        }\n",
              "      </script>\n",
              "    </div>\n",
              "  </div>\n",
              "  "
            ],
            "text/plain": [
              "       1    2    3    4    5    6    7    8    9   10   11\n",
              "0    226   19   40   52   79   58   82   64  235   85   82\n",
              "1     58   38   18   22   22   58   70   14  130   90  126\n",
              "2     15   15   15   15   15   15   15   15   15   15   19\n",
              "3     54   58  224  204   86  190  108   94  310  224  140\n",
              "4    244  127  130  232  169  154   58  130  166  271  337\n",
              "..   ...  ...  ...  ...  ...  ...  ...  ...  ...  ...  ...\n",
              "567    7    7    7    7    7  107  103   71   35    7    7\n",
              "568   29   21   33   61   65   13   13   33    9   49   25\n",
              "569   13   13   21   13   21   13   13   13   13   21   13\n",
              "570   13   17   11    9   21    9    9   17   13   15   13\n",
              "571   15   15   27   15   15   15   15   15   69  252  105\n",
              "\n",
              "[572 rows x 11 columns]"
            ]
          },
          "metadata": {},
          "execution_count": 4
        }
      ]
    },
    {
      "cell_type": "code",
      "source": [
        "x_train=df2.drop(['11'],axis=1)\n",
        "x_train"
      ],
      "metadata": {
        "colab": {
          "base_uri": "https://localhost:8080/",
          "height": 423
        },
        "id": "8x2ex47ady_A",
        "outputId": "1e750fd1-7182-4ec6-ea39-61e8623184b0"
      },
      "execution_count": null,
      "outputs": [
        {
          "output_type": "execute_result",
          "data": {
            "text/html": [
              "\n",
              "  <div id=\"df-0a112b0e-4023-49f1-bc9c-8b95ec908462\">\n",
              "    <div class=\"colab-df-container\">\n",
              "      <div>\n",
              "<style scoped>\n",
              "    .dataframe tbody tr th:only-of-type {\n",
              "        vertical-align: middle;\n",
              "    }\n",
              "\n",
              "    .dataframe tbody tr th {\n",
              "        vertical-align: top;\n",
              "    }\n",
              "\n",
              "    .dataframe thead th {\n",
              "        text-align: right;\n",
              "    }\n",
              "</style>\n",
              "<table border=\"1\" class=\"dataframe\">\n",
              "  <thead>\n",
              "    <tr style=\"text-align: right;\">\n",
              "      <th></th>\n",
              "      <th>1</th>\n",
              "      <th>2</th>\n",
              "      <th>3</th>\n",
              "      <th>4</th>\n",
              "      <th>5</th>\n",
              "      <th>6</th>\n",
              "      <th>7</th>\n",
              "      <th>8</th>\n",
              "      <th>9</th>\n",
              "      <th>10</th>\n",
              "    </tr>\n",
              "  </thead>\n",
              "  <tbody>\n",
              "    <tr>\n",
              "      <th>0</th>\n",
              "      <td>226</td>\n",
              "      <td>19</td>\n",
              "      <td>40</td>\n",
              "      <td>52</td>\n",
              "      <td>79</td>\n",
              "      <td>58</td>\n",
              "      <td>82</td>\n",
              "      <td>64</td>\n",
              "      <td>235</td>\n",
              "      <td>85</td>\n",
              "    </tr>\n",
              "    <tr>\n",
              "      <th>1</th>\n",
              "      <td>58</td>\n",
              "      <td>38</td>\n",
              "      <td>18</td>\n",
              "      <td>22</td>\n",
              "      <td>22</td>\n",
              "      <td>58</td>\n",
              "      <td>70</td>\n",
              "      <td>14</td>\n",
              "      <td>130</td>\n",
              "      <td>90</td>\n",
              "    </tr>\n",
              "    <tr>\n",
              "      <th>2</th>\n",
              "      <td>15</td>\n",
              "      <td>15</td>\n",
              "      <td>15</td>\n",
              "      <td>15</td>\n",
              "      <td>15</td>\n",
              "      <td>15</td>\n",
              "      <td>15</td>\n",
              "      <td>15</td>\n",
              "      <td>15</td>\n",
              "      <td>15</td>\n",
              "    </tr>\n",
              "    <tr>\n",
              "      <th>3</th>\n",
              "      <td>54</td>\n",
              "      <td>58</td>\n",
              "      <td>224</td>\n",
              "      <td>204</td>\n",
              "      <td>86</td>\n",
              "      <td>190</td>\n",
              "      <td>108</td>\n",
              "      <td>94</td>\n",
              "      <td>310</td>\n",
              "      <td>224</td>\n",
              "    </tr>\n",
              "    <tr>\n",
              "      <th>4</th>\n",
              "      <td>244</td>\n",
              "      <td>127</td>\n",
              "      <td>130</td>\n",
              "      <td>232</td>\n",
              "      <td>169</td>\n",
              "      <td>154</td>\n",
              "      <td>58</td>\n",
              "      <td>130</td>\n",
              "      <td>166</td>\n",
              "      <td>271</td>\n",
              "    </tr>\n",
              "    <tr>\n",
              "      <th>...</th>\n",
              "      <td>...</td>\n",
              "      <td>...</td>\n",
              "      <td>...</td>\n",
              "      <td>...</td>\n",
              "      <td>...</td>\n",
              "      <td>...</td>\n",
              "      <td>...</td>\n",
              "      <td>...</td>\n",
              "      <td>...</td>\n",
              "      <td>...</td>\n",
              "    </tr>\n",
              "    <tr>\n",
              "      <th>567</th>\n",
              "      <td>7</td>\n",
              "      <td>7</td>\n",
              "      <td>7</td>\n",
              "      <td>7</td>\n",
              "      <td>7</td>\n",
              "      <td>107</td>\n",
              "      <td>103</td>\n",
              "      <td>71</td>\n",
              "      <td>35</td>\n",
              "      <td>7</td>\n",
              "    </tr>\n",
              "    <tr>\n",
              "      <th>568</th>\n",
              "      <td>29</td>\n",
              "      <td>21</td>\n",
              "      <td>33</td>\n",
              "      <td>61</td>\n",
              "      <td>65</td>\n",
              "      <td>13</td>\n",
              "      <td>13</td>\n",
              "      <td>33</td>\n",
              "      <td>9</td>\n",
              "      <td>49</td>\n",
              "    </tr>\n",
              "    <tr>\n",
              "      <th>569</th>\n",
              "      <td>13</td>\n",
              "      <td>13</td>\n",
              "      <td>21</td>\n",
              "      <td>13</td>\n",
              "      <td>21</td>\n",
              "      <td>13</td>\n",
              "      <td>13</td>\n",
              "      <td>13</td>\n",
              "      <td>13</td>\n",
              "      <td>21</td>\n",
              "    </tr>\n",
              "    <tr>\n",
              "      <th>570</th>\n",
              "      <td>13</td>\n",
              "      <td>17</td>\n",
              "      <td>11</td>\n",
              "      <td>9</td>\n",
              "      <td>21</td>\n",
              "      <td>9</td>\n",
              "      <td>9</td>\n",
              "      <td>17</td>\n",
              "      <td>13</td>\n",
              "      <td>15</td>\n",
              "    </tr>\n",
              "    <tr>\n",
              "      <th>571</th>\n",
              "      <td>15</td>\n",
              "      <td>15</td>\n",
              "      <td>27</td>\n",
              "      <td>15</td>\n",
              "      <td>15</td>\n",
              "      <td>15</td>\n",
              "      <td>15</td>\n",
              "      <td>15</td>\n",
              "      <td>69</td>\n",
              "      <td>252</td>\n",
              "    </tr>\n",
              "  </tbody>\n",
              "</table>\n",
              "<p>572 rows × 10 columns</p>\n",
              "</div>\n",
              "      <button class=\"colab-df-convert\" onclick=\"convertToInteractive('df-0a112b0e-4023-49f1-bc9c-8b95ec908462')\"\n",
              "              title=\"Convert this dataframe to an interactive table.\"\n",
              "              style=\"display:none;\">\n",
              "        \n",
              "  <svg xmlns=\"http://www.w3.org/2000/svg\" height=\"24px\"viewBox=\"0 0 24 24\"\n",
              "       width=\"24px\">\n",
              "    <path d=\"M0 0h24v24H0V0z\" fill=\"none\"/>\n",
              "    <path d=\"M18.56 5.44l.94 2.06.94-2.06 2.06-.94-2.06-.94-.94-2.06-.94 2.06-2.06.94zm-11 1L8.5 8.5l.94-2.06 2.06-.94-2.06-.94L8.5 2.5l-.94 2.06-2.06.94zm10 10l.94 2.06.94-2.06 2.06-.94-2.06-.94-.94-2.06-.94 2.06-2.06.94z\"/><path d=\"M17.41 7.96l-1.37-1.37c-.4-.4-.92-.59-1.43-.59-.52 0-1.04.2-1.43.59L10.3 9.45l-7.72 7.72c-.78.78-.78 2.05 0 2.83L4 21.41c.39.39.9.59 1.41.59.51 0 1.02-.2 1.41-.59l7.78-7.78 2.81-2.81c.8-.78.8-2.07 0-2.86zM5.41 20L4 18.59l7.72-7.72 1.47 1.35L5.41 20z\"/>\n",
              "  </svg>\n",
              "      </button>\n",
              "      \n",
              "  <style>\n",
              "    .colab-df-container {\n",
              "      display:flex;\n",
              "      flex-wrap:wrap;\n",
              "      gap: 12px;\n",
              "    }\n",
              "\n",
              "    .colab-df-convert {\n",
              "      background-color: #E8F0FE;\n",
              "      border: none;\n",
              "      border-radius: 50%;\n",
              "      cursor: pointer;\n",
              "      display: none;\n",
              "      fill: #1967D2;\n",
              "      height: 32px;\n",
              "      padding: 0 0 0 0;\n",
              "      width: 32px;\n",
              "    }\n",
              "\n",
              "    .colab-df-convert:hover {\n",
              "      background-color: #E2EBFA;\n",
              "      box-shadow: 0px 1px 2px rgba(60, 64, 67, 0.3), 0px 1px 3px 1px rgba(60, 64, 67, 0.15);\n",
              "      fill: #174EA6;\n",
              "    }\n",
              "\n",
              "    [theme=dark] .colab-df-convert {\n",
              "      background-color: #3B4455;\n",
              "      fill: #D2E3FC;\n",
              "    }\n",
              "\n",
              "    [theme=dark] .colab-df-convert:hover {\n",
              "      background-color: #434B5C;\n",
              "      box-shadow: 0px 1px 3px 1px rgba(0, 0, 0, 0.15);\n",
              "      filter: drop-shadow(0px 1px 2px rgba(0, 0, 0, 0.3));\n",
              "      fill: #FFFFFF;\n",
              "    }\n",
              "  </style>\n",
              "\n",
              "      <script>\n",
              "        const buttonEl =\n",
              "          document.querySelector('#df-0a112b0e-4023-49f1-bc9c-8b95ec908462 button.colab-df-convert');\n",
              "        buttonEl.style.display =\n",
              "          google.colab.kernel.accessAllowed ? 'block' : 'none';\n",
              "\n",
              "        async function convertToInteractive(key) {\n",
              "          const element = document.querySelector('#df-0a112b0e-4023-49f1-bc9c-8b95ec908462');\n",
              "          const dataTable =\n",
              "            await google.colab.kernel.invokeFunction('convertToInteractive',\n",
              "                                                     [key], {});\n",
              "          if (!dataTable) return;\n",
              "\n",
              "          const docLinkHtml = 'Like what you see? Visit the ' +\n",
              "            '<a target=\"_blank\" href=https://colab.research.google.com/notebooks/data_table.ipynb>data table notebook</a>'\n",
              "            + ' to learn more about interactive tables.';\n",
              "          element.innerHTML = '';\n",
              "          dataTable['output_type'] = 'display_data';\n",
              "          await google.colab.output.renderOutput(dataTable, element);\n",
              "          const docLink = document.createElement('div');\n",
              "          docLink.innerHTML = docLinkHtml;\n",
              "          element.appendChild(docLink);\n",
              "        }\n",
              "      </script>\n",
              "    </div>\n",
              "  </div>\n",
              "  "
            ],
            "text/plain": [
              "       1    2    3    4    5    6    7    8    9   10\n",
              "0    226   19   40   52   79   58   82   64  235   85\n",
              "1     58   38   18   22   22   58   70   14  130   90\n",
              "2     15   15   15   15   15   15   15   15   15   15\n",
              "3     54   58  224  204   86  190  108   94  310  224\n",
              "4    244  127  130  232  169  154   58  130  166  271\n",
              "..   ...  ...  ...  ...  ...  ...  ...  ...  ...  ...\n",
              "567    7    7    7    7    7  107  103   71   35    7\n",
              "568   29   21   33   61   65   13   13   33    9   49\n",
              "569   13   13   21   13   21   13   13   13   13   21\n",
              "570   13   17   11    9   21    9    9   17   13   15\n",
              "571   15   15   27   15   15   15   15   15   69  252\n",
              "\n",
              "[572 rows x 10 columns]"
            ]
          },
          "metadata": {},
          "execution_count": 5
        }
      ]
    },
    {
      "cell_type": "code",
      "source": [
        "y_train=df2.iloc[:,10]\n",
        "y_train"
      ],
      "metadata": {
        "colab": {
          "base_uri": "https://localhost:8080/"
        },
        "id": "qMR-lDm2gKoP",
        "outputId": "f641aa00-a402-40cf-ea2a-2b9c8178e657"
      },
      "execution_count": null,
      "outputs": [
        {
          "output_type": "execute_result",
          "data": {
            "text/plain": [
              "0       82\n",
              "1      126\n",
              "2       19\n",
              "3      140\n",
              "4      337\n",
              "      ... \n",
              "567      7\n",
              "568     25\n",
              "569     13\n",
              "570     13\n",
              "571    105\n",
              "Name: 11, Length: 572, dtype: int64"
            ]
          },
          "metadata": {},
          "execution_count": 6
        }
      ]
    },
    {
      "cell_type": "code",
      "source": [
        "x_test=df1.drop(['11'],axis=1)\n",
        "x_test"
      ],
      "metadata": {
        "colab": {
          "base_uri": "https://localhost:8080/",
          "height": 423
        },
        "id": "W6dXRXZJgPeS",
        "outputId": "7a7685c8-44ca-4a9e-a2d7-7081940a62c2"
      },
      "execution_count": null,
      "outputs": [
        {
          "output_type": "execute_result",
          "data": {
            "text/html": [
              "\n",
              "  <div id=\"df-b2d7d9fd-3cce-461a-85ad-70e7d60d981b\">\n",
              "    <div class=\"colab-df-container\">\n",
              "      <div>\n",
              "<style scoped>\n",
              "    .dataframe tbody tr th:only-of-type {\n",
              "        vertical-align: middle;\n",
              "    }\n",
              "\n",
              "    .dataframe tbody tr th {\n",
              "        vertical-align: top;\n",
              "    }\n",
              "\n",
              "    .dataframe thead th {\n",
              "        text-align: right;\n",
              "    }\n",
              "</style>\n",
              "<table border=\"1\" class=\"dataframe\">\n",
              "  <thead>\n",
              "    <tr style=\"text-align: right;\">\n",
              "      <th></th>\n",
              "      <th>1</th>\n",
              "      <th>2</th>\n",
              "      <th>3</th>\n",
              "      <th>4</th>\n",
              "      <th>5</th>\n",
              "      <th>6</th>\n",
              "      <th>7</th>\n",
              "      <th>8</th>\n",
              "      <th>9</th>\n",
              "      <th>10</th>\n",
              "    </tr>\n",
              "  </thead>\n",
              "  <tbody>\n",
              "    <tr>\n",
              "      <th>0</th>\n",
              "      <td>28</td>\n",
              "      <td>31</td>\n",
              "      <td>328</td>\n",
              "      <td>2374</td>\n",
              "      <td>34</td>\n",
              "      <td>19</td>\n",
              "      <td>37</td>\n",
              "      <td>76</td>\n",
              "      <td>73</td>\n",
              "      <td>112</td>\n",
              "    </tr>\n",
              "    <tr>\n",
              "      <th>1</th>\n",
              "      <td>10</td>\n",
              "      <td>42</td>\n",
              "      <td>70</td>\n",
              "      <td>10</td>\n",
              "      <td>38</td>\n",
              "      <td>22</td>\n",
              "      <td>18</td>\n",
              "      <td>50</td>\n",
              "      <td>74</td>\n",
              "      <td>30</td>\n",
              "    </tr>\n",
              "    <tr>\n",
              "      <th>2</th>\n",
              "      <td>15</td>\n",
              "      <td>15</td>\n",
              "      <td>15</td>\n",
              "      <td>15</td>\n",
              "      <td>15</td>\n",
              "      <td>15</td>\n",
              "      <td>15</td>\n",
              "      <td>15</td>\n",
              "      <td>15</td>\n",
              "      <td>23</td>\n",
              "    </tr>\n",
              "    <tr>\n",
              "      <th>3</th>\n",
              "      <td>64</td>\n",
              "      <td>116</td>\n",
              "      <td>4058</td>\n",
              "      <td>954</td>\n",
              "      <td>112</td>\n",
              "      <td>32</td>\n",
              "      <td>200</td>\n",
              "      <td>206</td>\n",
              "      <td>152</td>\n",
              "      <td>190</td>\n",
              "    </tr>\n",
              "    <tr>\n",
              "      <th>4</th>\n",
              "      <td>136</td>\n",
              "      <td>352</td>\n",
              "      <td>2089</td>\n",
              "      <td>730</td>\n",
              "      <td>178</td>\n",
              "      <td>130</td>\n",
              "      <td>154</td>\n",
              "      <td>364</td>\n",
              "      <td>817</td>\n",
              "      <td>727</td>\n",
              "    </tr>\n",
              "    <tr>\n",
              "      <th>...</th>\n",
              "      <td>...</td>\n",
              "      <td>...</td>\n",
              "      <td>...</td>\n",
              "      <td>...</td>\n",
              "      <td>...</td>\n",
              "      <td>...</td>\n",
              "      <td>...</td>\n",
              "      <td>...</td>\n",
              "      <td>...</td>\n",
              "      <td>...</td>\n",
              "    </tr>\n",
              "    <tr>\n",
              "      <th>281</th>\n",
              "      <td>103</td>\n",
              "      <td>591</td>\n",
              "      <td>167</td>\n",
              "      <td>455</td>\n",
              "      <td>215</td>\n",
              "      <td>135</td>\n",
              "      <td>239</td>\n",
              "      <td>295</td>\n",
              "      <td>7</td>\n",
              "      <td>7</td>\n",
              "    </tr>\n",
              "    <tr>\n",
              "      <th>282</th>\n",
              "      <td>9</td>\n",
              "      <td>9</td>\n",
              "      <td>9</td>\n",
              "      <td>21</td>\n",
              "      <td>133</td>\n",
              "      <td>9</td>\n",
              "      <td>33</td>\n",
              "      <td>9</td>\n",
              "      <td>103</td>\n",
              "      <td>49</td>\n",
              "    </tr>\n",
              "    <tr>\n",
              "      <th>283</th>\n",
              "      <td>13</td>\n",
              "      <td>13</td>\n",
              "      <td>13</td>\n",
              "      <td>13</td>\n",
              "      <td>13</td>\n",
              "      <td>13</td>\n",
              "      <td>21</td>\n",
              "      <td>13</td>\n",
              "      <td>13</td>\n",
              "      <td>13</td>\n",
              "    </tr>\n",
              "    <tr>\n",
              "      <th>284</th>\n",
              "      <td>9</td>\n",
              "      <td>9</td>\n",
              "      <td>9</td>\n",
              "      <td>17</td>\n",
              "      <td>13</td>\n",
              "      <td>11</td>\n",
              "      <td>36</td>\n",
              "      <td>21</td>\n",
              "      <td>17</td>\n",
              "      <td>9</td>\n",
              "    </tr>\n",
              "    <tr>\n",
              "      <th>285</th>\n",
              "      <td>15</td>\n",
              "      <td>15</td>\n",
              "      <td>15</td>\n",
              "      <td>15</td>\n",
              "      <td>15</td>\n",
              "      <td>225</td>\n",
              "      <td>423</td>\n",
              "      <td>327</td>\n",
              "      <td>783</td>\n",
              "      <td>375</td>\n",
              "    </tr>\n",
              "  </tbody>\n",
              "</table>\n",
              "<p>286 rows × 10 columns</p>\n",
              "</div>\n",
              "      <button class=\"colab-df-convert\" onclick=\"convertToInteractive('df-b2d7d9fd-3cce-461a-85ad-70e7d60d981b')\"\n",
              "              title=\"Convert this dataframe to an interactive table.\"\n",
              "              style=\"display:none;\">\n",
              "        \n",
              "  <svg xmlns=\"http://www.w3.org/2000/svg\" height=\"24px\"viewBox=\"0 0 24 24\"\n",
              "       width=\"24px\">\n",
              "    <path d=\"M0 0h24v24H0V0z\" fill=\"none\"/>\n",
              "    <path d=\"M18.56 5.44l.94 2.06.94-2.06 2.06-.94-2.06-.94-.94-2.06-.94 2.06-2.06.94zm-11 1L8.5 8.5l.94-2.06 2.06-.94-2.06-.94L8.5 2.5l-.94 2.06-2.06.94zm10 10l.94 2.06.94-2.06 2.06-.94-2.06-.94-.94-2.06-.94 2.06-2.06.94z\"/><path d=\"M17.41 7.96l-1.37-1.37c-.4-.4-.92-.59-1.43-.59-.52 0-1.04.2-1.43.59L10.3 9.45l-7.72 7.72c-.78.78-.78 2.05 0 2.83L4 21.41c.39.39.9.59 1.41.59.51 0 1.02-.2 1.41-.59l7.78-7.78 2.81-2.81c.8-.78.8-2.07 0-2.86zM5.41 20L4 18.59l7.72-7.72 1.47 1.35L5.41 20z\"/>\n",
              "  </svg>\n",
              "      </button>\n",
              "      \n",
              "  <style>\n",
              "    .colab-df-container {\n",
              "      display:flex;\n",
              "      flex-wrap:wrap;\n",
              "      gap: 12px;\n",
              "    }\n",
              "\n",
              "    .colab-df-convert {\n",
              "      background-color: #E8F0FE;\n",
              "      border: none;\n",
              "      border-radius: 50%;\n",
              "      cursor: pointer;\n",
              "      display: none;\n",
              "      fill: #1967D2;\n",
              "      height: 32px;\n",
              "      padding: 0 0 0 0;\n",
              "      width: 32px;\n",
              "    }\n",
              "\n",
              "    .colab-df-convert:hover {\n",
              "      background-color: #E2EBFA;\n",
              "      box-shadow: 0px 1px 2px rgba(60, 64, 67, 0.3), 0px 1px 3px 1px rgba(60, 64, 67, 0.15);\n",
              "      fill: #174EA6;\n",
              "    }\n",
              "\n",
              "    [theme=dark] .colab-df-convert {\n",
              "      background-color: #3B4455;\n",
              "      fill: #D2E3FC;\n",
              "    }\n",
              "\n",
              "    [theme=dark] .colab-df-convert:hover {\n",
              "      background-color: #434B5C;\n",
              "      box-shadow: 0px 1px 3px 1px rgba(0, 0, 0, 0.15);\n",
              "      filter: drop-shadow(0px 1px 2px rgba(0, 0, 0, 0.3));\n",
              "      fill: #FFFFFF;\n",
              "    }\n",
              "  </style>\n",
              "\n",
              "      <script>\n",
              "        const buttonEl =\n",
              "          document.querySelector('#df-b2d7d9fd-3cce-461a-85ad-70e7d60d981b button.colab-df-convert');\n",
              "        buttonEl.style.display =\n",
              "          google.colab.kernel.accessAllowed ? 'block' : 'none';\n",
              "\n",
              "        async function convertToInteractive(key) {\n",
              "          const element = document.querySelector('#df-b2d7d9fd-3cce-461a-85ad-70e7d60d981b');\n",
              "          const dataTable =\n",
              "            await google.colab.kernel.invokeFunction('convertToInteractive',\n",
              "                                                     [key], {});\n",
              "          if (!dataTable) return;\n",
              "\n",
              "          const docLinkHtml = 'Like what you see? Visit the ' +\n",
              "            '<a target=\"_blank\" href=https://colab.research.google.com/notebooks/data_table.ipynb>data table notebook</a>'\n",
              "            + ' to learn more about interactive tables.';\n",
              "          element.innerHTML = '';\n",
              "          dataTable['output_type'] = 'display_data';\n",
              "          await google.colab.output.renderOutput(dataTable, element);\n",
              "          const docLink = document.createElement('div');\n",
              "          docLink.innerHTML = docLinkHtml;\n",
              "          element.appendChild(docLink);\n",
              "        }\n",
              "      </script>\n",
              "    </div>\n",
              "  </div>\n",
              "  "
            ],
            "text/plain": [
              "       1    2     3     4    5    6    7    8    9   10\n",
              "0     28   31   328  2374   34   19   37   76   73  112\n",
              "1     10   42    70    10   38   22   18   50   74   30\n",
              "2     15   15    15    15   15   15   15   15   15   23\n",
              "3     64  116  4058   954  112   32  200  206  152  190\n",
              "4    136  352  2089   730  178  130  154  364  817  727\n",
              "..   ...  ...   ...   ...  ...  ...  ...  ...  ...  ...\n",
              "281  103  591   167   455  215  135  239  295    7    7\n",
              "282    9    9     9    21  133    9   33    9  103   49\n",
              "283   13   13    13    13   13   13   21   13   13   13\n",
              "284    9    9     9    17   13   11   36   21   17    9\n",
              "285   15   15    15    15   15  225  423  327  783  375\n",
              "\n",
              "[286 rows x 10 columns]"
            ]
          },
          "metadata": {},
          "execution_count": 7
        }
      ]
    },
    {
      "cell_type": "code",
      "source": [
        "y_test=df1.iloc[:,10]\n",
        "y_test.iloc[2]\n",
        "\n"
      ],
      "metadata": {
        "id": "pIp13PvVg_xC",
        "colab": {
          "base_uri": "https://localhost:8080/"
        },
        "outputId": "e7930ab0-ab82-4346-9bd2-1a56eff85818"
      },
      "execution_count": null,
      "outputs": [
        {
          "output_type": "execute_result",
          "data": {
            "text/plain": [
              "15"
            ]
          },
          "metadata": {},
          "execution_count": 8
        }
      ]
    },
    {
      "cell_type": "code",
      "source": [
        "from catboost import CatBoostRegressor\n",
        "model=CatBoostRegressor(iterations=18, depth=3, learning_rate=0.1, loss_function='MAPE')\n",
        "model.fit(x_train, y_train,eval_set=(x_test, y_test),plot=True)"
      ],
      "metadata": {
        "colab": {
          "base_uri": "https://localhost:8080/",
          "height": 434,
          "referenced_widgets": [
            "b81565355fd94e0b842029d75175ff76"
          ]
        },
        "id": "UpEUB8G_hJjr",
        "outputId": "1a2c12f6-55c5-4c4c-ad07-ceec00d9eb9d"
      },
      "execution_count": null,
      "outputs": [
        {
          "output_type": "display_data",
          "data": {
            "application/vnd.jupyter.widget-view+json": {
              "model_id": "b81565355fd94e0b842029d75175ff76",
              "version_minor": 0,
              "version_major": 2
            },
            "text/plain": [
              "MetricVisualizer(layout=Layout(align_self='stretch', height='500px'))"
            ]
          },
          "metadata": {}
        },
        {
          "output_type": "stream",
          "name": "stdout",
          "text": [
            "0:\tlearn: 0.8226579\ttest: 0.8111079\tbest: 0.8111079 (0)\ttotal: 47.4ms\tremaining: 806ms\n",
            "1:\tlearn: 0.7966919\ttest: 0.7985107\tbest: 0.7985107 (1)\ttotal: 49.1ms\tremaining: 393ms\n",
            "2:\tlearn: 0.7719738\ttest: 0.7842387\tbest: 0.7842387 (2)\ttotal: 50.3ms\tremaining: 252ms\n",
            "3:\tlearn: 0.7536190\ttest: 0.8007614\tbest: 0.7842387 (2)\ttotal: 51.1ms\tremaining: 179ms\n",
            "4:\tlearn: 0.7412860\ttest: 0.8112285\tbest: 0.7842387 (2)\ttotal: 51.9ms\tremaining: 135ms\n",
            "5:\tlearn: 0.7260776\ttest: 0.8063755\tbest: 0.7842387 (2)\ttotal: 52.8ms\tremaining: 106ms\n",
            "6:\tlearn: 0.7154053\ttest: 0.7942292\tbest: 0.7842387 (2)\ttotal: 53.7ms\tremaining: 84.4ms\n",
            "7:\tlearn: 0.7034370\ttest: 0.7871215\tbest: 0.7842387 (2)\ttotal: 55.1ms\tremaining: 68.9ms\n",
            "8:\tlearn: 0.6893294\ttest: 0.7983417\tbest: 0.7842387 (2)\ttotal: 57.1ms\tremaining: 57.1ms\n",
            "9:\tlearn: 0.6795106\ttest: 0.8598252\tbest: 0.7842387 (2)\ttotal: 59.1ms\tremaining: 47.2ms\n",
            "10:\tlearn: 0.6737566\ttest: 0.8589881\tbest: 0.7842387 (2)\ttotal: 61.2ms\tremaining: 39ms\n",
            "11:\tlearn: 0.6625806\ttest: 0.8934022\tbest: 0.7842387 (2)\ttotal: 63.5ms\tremaining: 31.7ms\n",
            "12:\tlearn: 0.6486956\ttest: 0.8897185\tbest: 0.7842387 (2)\ttotal: 65.6ms\tremaining: 25.2ms\n",
            "13:\tlearn: 0.6422614\ttest: 0.9480824\tbest: 0.7842387 (2)\ttotal: 67.7ms\tremaining: 19.3ms\n",
            "14:\tlearn: 0.6330035\ttest: 0.9461082\tbest: 0.7842387 (2)\ttotal: 69.7ms\tremaining: 13.9ms\n",
            "15:\tlearn: 0.6268168\ttest: 0.9447303\tbest: 0.7842387 (2)\ttotal: 71.7ms\tremaining: 8.96ms\n",
            "16:\tlearn: 0.6237469\ttest: 0.9441493\tbest: 0.7842387 (2)\ttotal: 73.8ms\tremaining: 4.34ms\n",
            "17:\tlearn: 0.6176442\ttest: 0.9429819\tbest: 0.7842387 (2)\ttotal: 76ms\tremaining: 0us\n",
            "\n",
            "bestTest = 0.7842386913\n",
            "bestIteration = 2\n",
            "\n",
            "Shrink model to first 3 iterations.\n"
          ]
        },
        {
          "output_type": "execute_result",
          "data": {
            "text/plain": [
              "<catboost.core.CatBoostRegressor at 0x7f8f208b5310>"
            ]
          },
          "metadata": {},
          "execution_count": 9
        }
      ]
    },
    {
      "cell_type": "code",
      "source": [
        "k=model.predict(x_test)\n",
        "t=np.floor(k)\n",
        "t\n"
      ],
      "metadata": {
        "colab": {
          "base_uri": "https://localhost:8080/"
        },
        "id": "dYMbwdoIfKqi",
        "outputId": "8ab6e976-cbed-4583-f77b-c8b4313fcf30"
      },
      "execution_count": null,
      "outputs": [
        {
          "output_type": "execute_result",
          "data": {
            "text/plain": [
              "array([ 5.,  4.,  5.,  5.,  4.,  4.,  4.,  4.,  5.,  5.,  5.,  4.,  4.,\n",
              "        4.,  4.,  5.,  5.,  5.,  5.,  5.,  5.,  5.,  5.,  5.,  4.,  5.,\n",
              "        5.,  4.,  5.,  4.,  5.,  5.,  5.,  5.,  4.,  5.,  5.,  5.,  4.,\n",
              "        4.,  4.,  5.,  5.,  5.,  5.,  5.,  4.,  5.,  4.,  5.,  4.,  5.,\n",
              "        5.,  5.,  4.,  5.,  5.,  5.,  3.,  5.,  4.,  4.,  5.,  5.,  5.,\n",
              "        5.,  5.,  5.,  4.,  5.,  5.,  5.,  5.,  5.,  5.,  5.,  4.,  5.,\n",
              "        5.,  5.,  5.,  4.,  5.,  4.,  4.,  5.,  5.,  5.,  5.,  5.,  3.,\n",
              "        4.,  5.,  5.,  5.,  5.,  5.,  5.,  5.,  5.,  5.,  5.,  4.,  3.,\n",
              "        4.,  5.,  4.,  5.,  5.,  5.,  4.,  5.,  4.,  4., 13.,  4.,  5.,\n",
              "        5.,  5.,  4.,  4.,  4.,  4.,  5.,  4.,  4.,  5.,  4.,  5.,  4.,\n",
              "        4.,  5.,  5.,  4.,  4.,  5.,  5.,  5.,  5.,  5.,  5.,  5.,  5.,\n",
              "        5.,  5.,  5.,  5.,  5.,  4.,  5.,  4.,  4.,  5.,  5.,  4.,  5.,\n",
              "        5.,  5.,  4.,  5.,  5.,  5.,  5.,  5.,  4.,  5.,  5.,  5.,  5.,\n",
              "        5.,  4.,  5.,  5.,  4.,  4.,  5.,  5.,  4.,  5.,  4.,  4.,  4.,\n",
              "        4.,  4.,  4., 14.,  4.,  4.,  4.,  4.,  5.,  5.,  5.,  5.,  5.,\n",
              "        5.,  5.,  5.,  5.,  5.,  5.,  5.,  5.,  4.,  4.,  4.,  5.,  5.,\n",
              "        5.,  5.,  5.,  5.,  5.,  4.,  5.,  4.,  5.,  5.,  5.,  5.,  4.,\n",
              "        5.,  4.,  4.,  5.,  5.,  4.,  4.,  5.,  4.,  5.,  3.,  5.,  5.,\n",
              "        4.,  5.,  5.,  5.,  5.,  5.,  5.,  5.,  5.,  4.,  4.,  4.,  5.,\n",
              "        5.,  4.,  4.,  5.,  3.,  4.,  5.,  4.,  5.,  5.,  5.,  4.,  4.,\n",
              "        4.,  5.,  4.,  5.,  5.,  4.,  5.,  5.,  5.,  5.,  5.,  5.,  5.,\n",
              "        4.,  5.,  4.,  5.,  5.,  4.,  4.,  5.,  4.,  5.,  5.,  5.,  5.])"
            ]
          },
          "metadata": {},
          "execution_count": 10
        }
      ]
    },
    {
      "cell_type": "code",
      "source": [
        "a,b=mape(y_test,t)\n",
        "b"
      ],
      "metadata": {
        "colab": {
          "base_uri": "https://localhost:8080/"
        },
        "id": "BxtxUkdlj2z_",
        "outputId": "f36c7783-567d-43fd-b197-46308d64c32c"
      },
      "execution_count": null,
      "outputs": [
        {
          "output_type": "execute_result",
          "data": {
            "text/plain": [
              "79.37864649056002"
            ]
          },
          "metadata": {},
          "execution_count": 12
        }
      ]
    },
    {
      "cell_type": "code",
      "source": [
        "mapef=0\n",
        "c=0\n",
        "bad_examples_north=[]"
      ],
      "metadata": {
        "id": "q56BY3jtrl8Z"
      },
      "execution_count": null,
      "outputs": []
    },
    {
      "cell_type": "code",
      "source": [
        "for i in range(len(y_test)):\n",
        "  if np.abs((y_test.iloc[i]-t[i])/(y_test.iloc[i]))<0.9:\n",
        "    mapef=mapef+np.abs((y_test.iloc[i]-t[i])/(y_test.iloc[i]))\n",
        "    c=c+1\n",
        "  else:\n",
        "    bad_examples_north.append(i)  \n",
        "mape_final=mapef/c  \n",
        "print(mape_final)\n"
      ],
      "metadata": {
        "id": "knRyTg7ItvH0",
        "colab": {
          "base_uri": "https://localhost:8080/"
        },
        "outputId": "4c1f672a-129b-4f30-c14f-8af0ec1de800"
      },
      "execution_count": null,
      "outputs": [
        {
          "output_type": "stream",
          "name": "stdout",
          "text": [
            "0.644725590957892\n"
          ]
        }
      ]
    },
    {
      "cell_type": "code",
      "source": [
        "len(bad_examples_north)"
      ],
      "metadata": {
        "colab": {
          "base_uri": "https://localhost:8080/"
        },
        "id": "kAZg3vUrmReY",
        "outputId": "91d85c4e-bd31-43a2-c71f-2f1eda5c8ecb"
      },
      "execution_count": null,
      "outputs": [
        {
          "output_type": "execute_result",
          "data": {
            "text/plain": [
              "93"
            ]
          },
          "metadata": {},
          "execution_count": 16
        }
      ]
    },
    {
      "cell_type": "code",
      "source": [
        ""
      ],
      "metadata": {
        "id": "o-Oxi-GAhx-j"
      },
      "execution_count": null,
      "outputs": []
    }
  ]
}