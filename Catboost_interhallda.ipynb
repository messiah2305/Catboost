{
  "nbformat": 4,
  "nbformat_minor": 0,
  "metadata": {
    "colab": {
      "name": "Catboost_interhallda.ipynb",
      "provenance": []
    },
    "kernelspec": {
      "name": "python3",
      "display_name": "Python 3"
    },
    "language_info": {
      "name": "python"
    },
    "widgets": {
      "application/vnd.jupyter.widget-state+json": {
        "cf3a6d4e9377471aadcdb0d7f7be4ba6": {
          "model_module": "catboost-widget",
          "model_name": "CatboostWidgetModel",
          "model_module_version": "^1.0.0",
          "state": {
            "_view_name": "CatboostWidgetView",
            "_dom_classes": [],
            "_model_name": "CatboostWidgetModel",
            "data": {
              "catboost_info": {
                "content": {
                  "data": {
                    "meta": {
                      "name": "experiment",
                      "parameters": "",
                      "test_metrics": [
                        {
                          "best_value": "Min",
                          "name": "RMSE"
                        }
                      ],
                      "learn_sets": [
                        "learn"
                      ],
                      "launch_mode": "Train",
                      "learn_metrics": [
                        {
                          "best_value": "Min",
                          "name": "RMSE"
                        }
                      ],
                      "iteration_count": 50,
                      "test_sets": [
                        "test"
                      ]
                    },
                    "iterations": [
                      {
                        "test": [
                          246.7150436
                        ],
                        "passed_time": 0.05084051076,
                        "iteration": 0,
                        "remaining_time": 2.491185027,
                        "learn": [
                          692.7583241
                        ]
                      },
                      {
                        "test": [
                          236.0576006
                        ],
                        "passed_time": 0.05238455206,
                        "iteration": 1,
                        "remaining_time": 1.257229249,
                        "learn": [
                          659.7386462
                        ]
                      },
                      {
                        "test": [
                          218.1356249
                        ],
                        "passed_time": 0.05338428194,
                        "iteration": 2,
                        "remaining_time": 0.8363537505,
                        "learn": [
                          628.3078068
                        ]
                      },
                      {
                        "test": [
                          206.5291351
                        ],
                        "passed_time": 0.05436091491,
                        "iteration": 3,
                        "remaining_time": 0.6251505214,
                        "learn": [
                          597.180571
                        ]
                      },
                      {
                        "test": [
                          199.5162949
                        ],
                        "passed_time": 0.05536053434,
                        "iteration": 4,
                        "remaining_time": 0.4982448091,
                        "learn": [
                          575.2192089
                        ]
                      },
                      {
                        "test": [
                          192.2892274
                        ],
                        "passed_time": 0.05636719189,
                        "iteration": 5,
                        "remaining_time": 0.4133594072,
                        "learn": [
                          550.138199
                        ]
                      },
                      {
                        "test": [
                          184.3497791
                        ],
                        "passed_time": 0.05736620319,
                        "iteration": 6,
                        "remaining_time": 0.352392391,
                        "learn": [
                          527.3555223
                        ]
                      },
                      {
                        "test": [
                          175.4893116
                        ],
                        "passed_time": 0.05835312494,
                        "iteration": 7,
                        "remaining_time": 0.3063539059,
                        "learn": [
                          508.6646259
                        ]
                      },
                      {
                        "test": [
                          172.0546715
                        ],
                        "passed_time": 0.05936085832,
                        "iteration": 8,
                        "remaining_time": 0.2704216879,
                        "learn": [
                          488.4327386
                        ]
                      },
                      {
                        "test": [
                          167.9847008
                        ],
                        "passed_time": 0.0603442985,
                        "iteration": 9,
                        "remaining_time": 0.241377194,
                        "learn": [
                          469.7742393
                        ]
                      },
                      {
                        "test": [
                          164.8406736
                        ],
                        "passed_time": 0.06134424973,
                        "iteration": 10,
                        "remaining_time": 0.217493249,
                        "learn": [
                          452.6201738
                        ]
                      },
                      {
                        "test": [
                          162.5615937
                        ],
                        "passed_time": 0.062332635,
                        "iteration": 11,
                        "remaining_time": 0.1973866775,
                        "learn": [
                          441.3179976
                        ]
                      },
                      {
                        "test": [
                          162.6430115
                        ],
                        "passed_time": 0.06333744587,
                        "iteration": 12,
                        "remaining_time": 0.1802681152,
                        "learn": [
                          428.2369185
                        ]
                      },
                      {
                        "test": [
                          161.5706723
                        ],
                        "passed_time": 0.06452066668,
                        "iteration": 13,
                        "remaining_time": 0.1659102857,
                        "learn": [
                          414.3258575
                        ]
                      },
                      {
                        "test": [
                          160.5846971
                        ],
                        "passed_time": 0.06564417055,
                        "iteration": 14,
                        "remaining_time": 0.1531697313,
                        "learn": [
                          407.2677332
                        ]
                      },
                      {
                        "test": [
                          160.0133721
                        ],
                        "passed_time": 0.06664879735,
                        "iteration": 15,
                        "remaining_time": 0.1416286944,
                        "learn": [
                          401.7897543
                        ]
                      },
                      {
                        "test": [
                          159.4859467
                        ],
                        "passed_time": 0.06763156303,
                        "iteration": 16,
                        "remaining_time": 0.1312847988,
                        "learn": [
                          391.2942782
                        ]
                      },
                      {
                        "test": [
                          158.4708695
                        ],
                        "passed_time": 0.06860379632,
                        "iteration": 17,
                        "remaining_time": 0.1219623046,
                        "learn": [
                          380.0407784
                        ]
                      },
                      {
                        "test": [
                          158.935486
                        ],
                        "passed_time": 0.06957821172,
                        "iteration": 18,
                        "remaining_time": 0.1135223454,
                        "learn": [
                          375.6499395
                        ]
                      },
                      {
                        "test": [
                          161.6859534
                        ],
                        "passed_time": 0.07056867138,
                        "iteration": 19,
                        "remaining_time": 0.1058530071,
                        "learn": [
                          369.0451303
                        ]
                      },
                      {
                        "test": [
                          163.0349804
                        ],
                        "passed_time": 0.07156589736,
                        "iteration": 20,
                        "remaining_time": 0.09882909636,
                        "learn": [
                          365.266395
                        ]
                      },
                      {
                        "test": [
                          161.2302723
                        ],
                        "passed_time": 0.07254863123,
                        "iteration": 21,
                        "remaining_time": 0.09233462157,
                        "learn": [
                          356.4456518
                        ]
                      },
                      {
                        "test": [
                          157.3607929
                        ],
                        "passed_time": 0.07351810609,
                        "iteration": 22,
                        "remaining_time": 0.08630386367,
                        "learn": [
                          347.5592813
                        ]
                      },
                      {
                        "test": [
                          157.4534794
                        ],
                        "passed_time": 0.07446796377,
                        "iteration": 23,
                        "remaining_time": 0.08067362741,
                        "learn": [
                          343.9814912
                        ]
                      },
                      {
                        "test": [
                          156.7917741
                        ],
                        "passed_time": 0.0753806092,
                        "iteration": 24,
                        "remaining_time": 0.0753806092,
                        "learn": [
                          335.4072314
                        ]
                      },
                      {
                        "test": [
                          158.9441515
                        ],
                        "passed_time": 0.07637913372,
                        "iteration": 25,
                        "remaining_time": 0.07050381574,
                        "learn": [
                          331.508551
                        ]
                      },
                      {
                        "test": [
                          159.1604335
                        ],
                        "passed_time": 0.07737525842,
                        "iteration": 26,
                        "remaining_time": 0.06591225717,
                        "learn": [
                          327.8161182
                        ]
                      },
                      {
                        "test": [
                          159.2572555
                        ],
                        "passed_time": 0.07846042469,
                        "iteration": 27,
                        "remaining_time": 0.06164747654,
                        "learn": [
                          324.6391889
                        ]
                      },
                      {
                        "test": [
                          156.8505272
                        ],
                        "passed_time": 0.07962866342,
                        "iteration": 28,
                        "remaining_time": 0.05766213558,
                        "learn": [
                          318.1259159
                        ]
                      },
                      {
                        "test": [
                          157.2373284
                        ],
                        "passed_time": 0.08062214195,
                        "iteration": 29,
                        "remaining_time": 0.05374809464,
                        "learn": [
                          315.2177088
                        ]
                      },
                      {
                        "test": [
                          157.4860421
                        ],
                        "passed_time": 0.08159048053,
                        "iteration": 30,
                        "remaining_time": 0.05000706871,
                        "learn": [
                          312.3746545
                        ]
                      },
                      {
                        "test": [
                          160.3961143
                        ],
                        "passed_time": 0.08261712433,
                        "iteration": 31,
                        "remaining_time": 0.04647213243,
                        "learn": [
                          308.3461236
                        ]
                      },
                      {
                        "test": [
                          160.3054576
                        ],
                        "passed_time": 0.0836127027,
                        "iteration": 32,
                        "remaining_time": 0.04307321048,
                        "learn": [
                          305.5922574
                        ]
                      },
                      {
                        "test": [
                          163.0280769
                        ],
                        "passed_time": 0.08460286375,
                        "iteration": 33,
                        "remaining_time": 0.03981311235,
                        "learn": [
                          299.3938959
                        ]
                      },
                      {
                        "test": [
                          163.0839718
                        ],
                        "passed_time": 0.0857395021,
                        "iteration": 34,
                        "remaining_time": 0.0367455009,
                        "learn": [
                          296.8852118
                        ]
                      },
                      {
                        "test": [
                          163.5076885
                        ],
                        "passed_time": 0.08675138699,
                        "iteration": 35,
                        "remaining_time": 0.0337366505,
                        "learn": [
                          294.7196311
                        ]
                      },
                      {
                        "test": [
                          166.370343
                        ],
                        "passed_time": 0.08748238591,
                        "iteration": 36,
                        "remaining_time": 0.03073705451,
                        "learn": [
                          290.8038297
                        ]
                      },
                      {
                        "test": [
                          166.7637691
                        ],
                        "passed_time": 0.08847392959,
                        "iteration": 37,
                        "remaining_time": 0.02793913566,
                        "learn": [
                          288.7440001
                        ]
                      },
                      {
                        "test": [
                          167.2405442
                        ],
                        "passed_time": 0.08946297617,
                        "iteration": 38,
                        "remaining_time": 0.02523314713,
                        "learn": [
                          286.6319681
                        ]
                      },
                      {
                        "test": [
                          168.8869629
                        ],
                        "passed_time": 0.09046061394,
                        "iteration": 39,
                        "remaining_time": 0.02261515348,
                        "learn": [
                          283.7534009
                        ]
                      },
                      {
                        "test": [
                          172.0227817
                        ],
                        "passed_time": 0.09159908943,
                        "iteration": 40,
                        "remaining_time": 0.02010711719,
                        "learn": [
                          276.4732205
                        ]
                      },
                      {
                        "test": [
                          172.2587951
                        ],
                        "passed_time": 0.09256164071,
                        "iteration": 41,
                        "remaining_time": 0.01763078871,
                        "learn": [
                          274.508739
                        ]
                      },
                      {
                        "test": [
                          173.7319172
                        ],
                        "passed_time": 0.09354743526,
                        "iteration": 42,
                        "remaining_time": 0.01522865225,
                        "learn": [
                          268.9934094
                        ]
                      },
                      {
                        "test": [
                          174.7258926
                        ],
                        "passed_time": 0.09454237096,
                        "iteration": 43,
                        "remaining_time": 0.01289214149,
                        "learn": [
                          264.1587882
                        ]
                      },
                      {
                        "test": [
                          177.0153269
                        ],
                        "passed_time": 0.09554555922,
                        "iteration": 44,
                        "remaining_time": 0.01061617325,
                        "learn": [
                          261.5764317
                        ]
                      },
                      {
                        "test": [
                          177.8847568
                        ],
                        "passed_time": 0.09652276668,
                        "iteration": 45,
                        "remaining_time": 0.00839328406,
                        "learn": [
                          259.280517
                        ]
                      },
                      {
                        "test": [
                          178.2659718
                        ],
                        "passed_time": 0.09751553027,
                        "iteration": 46,
                        "remaining_time": 0.006224395549,
                        "learn": [
                          257.8061591
                        ]
                      },
                      {
                        "test": [
                          178.4797543
                        ],
                        "passed_time": 0.09851392252,
                        "iteration": 47,
                        "remaining_time": 0.004104746772,
                        "learn": [
                          256.4340841
                        ]
                      },
                      {
                        "test": [
                          180.2085462
                        ],
                        "passed_time": 0.09968710998,
                        "iteration": 48,
                        "remaining_time": 0.002034430816,
                        "learn": [
                          254.0612498
                        ]
                      },
                      {
                        "test": [
                          180.0035398
                        ],
                        "passed_time": 0.1006845346,
                        "iteration": 49,
                        "remaining_time": 0,
                        "learn": [
                          250.7356622
                        ]
                      }
                    ]
                  },
                  "total_iterations": 50,
                  "passed_iterations": 49
                },
                "path": "catboost_info",
                "name": "catboost_info"
              }
            },
            "_view_module": "catboost-widget",
            "_model_module_version": "^1.0.0",
            "_view_count": null,
            "_view_module_version": "^1.0.0",
            "layout": "IPY_MODEL_0e60b6f3e47e43b5bbe3a38d9095b179",
            "_model_module": "catboost-widget"
          }
        }
      }
    }
  },
  "cells": [
    {
      "cell_type": "code",
      "execution_count": 60,
      "metadata": {
        "colab": {
          "base_uri": "https://localhost:8080/"
        },
        "id": "jeGDxX_xcpi1",
        "outputId": "df810244-b2f1-4315-d897-fba1cc3fc30b"
      },
      "outputs": [
        {
          "output_type": "stream",
          "name": "stdout",
          "text": [
            "Requirement already satisfied: catboost in /usr/local/lib/python3.7/dist-packages (1.0.4)\n",
            "Requirement already satisfied: six in /usr/local/lib/python3.7/dist-packages (from catboost) (1.15.0)\n",
            "Requirement already satisfied: numpy>=1.16.0 in /usr/local/lib/python3.7/dist-packages (from catboost) (1.21.5)\n",
            "Requirement already satisfied: matplotlib in /usr/local/lib/python3.7/dist-packages (from catboost) (3.2.2)\n",
            "Requirement already satisfied: pandas>=0.24.0 in /usr/local/lib/python3.7/dist-packages (from catboost) (1.3.5)\n",
            "Requirement already satisfied: graphviz in /usr/local/lib/python3.7/dist-packages (from catboost) (0.10.1)\n",
            "Requirement already satisfied: plotly in /usr/local/lib/python3.7/dist-packages (from catboost) (5.5.0)\n",
            "Requirement already satisfied: scipy in /usr/local/lib/python3.7/dist-packages (from catboost) (1.4.1)\n",
            "Requirement already satisfied: pytz>=2017.3 in /usr/local/lib/python3.7/dist-packages (from pandas>=0.24.0->catboost) (2018.9)\n",
            "Requirement already satisfied: python-dateutil>=2.7.3 in /usr/local/lib/python3.7/dist-packages (from pandas>=0.24.0->catboost) (2.8.2)\n",
            "Requirement already satisfied: kiwisolver>=1.0.1 in /usr/local/lib/python3.7/dist-packages (from matplotlib->catboost) (1.3.2)\n",
            "Requirement already satisfied: cycler>=0.10 in /usr/local/lib/python3.7/dist-packages (from matplotlib->catboost) (0.11.0)\n",
            "Requirement already satisfied: pyparsing!=2.0.4,!=2.1.2,!=2.1.6,>=2.0.1 in /usr/local/lib/python3.7/dist-packages (from matplotlib->catboost) (3.0.7)\n",
            "Requirement already satisfied: tenacity>=6.2.0 in /usr/local/lib/python3.7/dist-packages (from plotly->catboost) (8.0.1)\n"
          ]
        }
      ],
      "source": [
        "import numpy as np\n",
        "import seaborn as sns\n",
        "import matplotlib.pyplot as plt\n",
        "import pandas as pd\n",
        "from datetime import datetime\n",
        "import warnings\n",
        "warnings.filterwarnings('ignore')\n",
        "!pip install catboost\n",
        "from sklearn.metrics import mean_absolute_percentage_error\n"
      ]
    },
    {
      "cell_type": "code",
      "source": [
        "df1=pd.read_csv('stackedNorth_test.csv')\n",
        "df1\n",
        "df1=df1.drop(['Unnamed: 0'],axis=1)\n",
        "df1\n",
        "df1=df1.drop(['SKU_id'],axis=1)\n",
        "df1\n",
        "df1.rename(columns = {'Jul_20':'1','Aug_20':'2','Sep_20':'3','Oct_20':'4','Nov_20':'5','Dec_20':'6','Jan_21':'7','Feb_21':'8','Mar_21':'9','Apr_21':'10','May_21':'11'}, inplace = True)\n",
        "df1"
      ],
      "metadata": {
        "colab": {
          "base_uri": "https://localhost:8080/",
          "height": 423
        },
        "id": "S1125LC3ctV9",
        "outputId": "902696b1-ac63-4483-ea17-324c9cb391c0"
      },
      "execution_count": 48,
      "outputs": [
        {
          "output_type": "execute_result",
          "data": {
            "text/html": [
              "\n",
              "  <div id=\"df-77030c23-a24f-4295-b205-d333bbf4e5d3\">\n",
              "    <div class=\"colab-df-container\">\n",
              "      <div>\n",
              "<style scoped>\n",
              "    .dataframe tbody tr th:only-of-type {\n",
              "        vertical-align: middle;\n",
              "    }\n",
              "\n",
              "    .dataframe tbody tr th {\n",
              "        vertical-align: top;\n",
              "    }\n",
              "\n",
              "    .dataframe thead th {\n",
              "        text-align: right;\n",
              "    }\n",
              "</style>\n",
              "<table border=\"1\" class=\"dataframe\">\n",
              "  <thead>\n",
              "    <tr style=\"text-align: right;\">\n",
              "      <th></th>\n",
              "      <th>1</th>\n",
              "      <th>2</th>\n",
              "      <th>3</th>\n",
              "      <th>4</th>\n",
              "      <th>5</th>\n",
              "      <th>6</th>\n",
              "      <th>7</th>\n",
              "      <th>8</th>\n",
              "      <th>9</th>\n",
              "      <th>10</th>\n",
              "      <th>11</th>\n",
              "    </tr>\n",
              "  </thead>\n",
              "  <tbody>\n",
              "    <tr>\n",
              "      <th>0</th>\n",
              "      <td>8</td>\n",
              "      <td>12</td>\n",
              "      <td>8</td>\n",
              "      <td>8</td>\n",
              "      <td>8</td>\n",
              "      <td>8</td>\n",
              "      <td>8</td>\n",
              "      <td>14</td>\n",
              "      <td>16</td>\n",
              "      <td>8</td>\n",
              "      <td>12</td>\n",
              "    </tr>\n",
              "    <tr>\n",
              "      <th>1</th>\n",
              "      <td>73</td>\n",
              "      <td>16</td>\n",
              "      <td>7</td>\n",
              "      <td>7</td>\n",
              "      <td>7</td>\n",
              "      <td>7</td>\n",
              "      <td>7</td>\n",
              "      <td>13</td>\n",
              "      <td>43</td>\n",
              "      <td>13</td>\n",
              "      <td>43</td>\n",
              "    </tr>\n",
              "    <tr>\n",
              "      <th>2</th>\n",
              "      <td>6</td>\n",
              "      <td>8</td>\n",
              "      <td>6</td>\n",
              "      <td>6</td>\n",
              "      <td>6</td>\n",
              "      <td>6</td>\n",
              "      <td>6</td>\n",
              "      <td>6</td>\n",
              "      <td>8</td>\n",
              "      <td>26</td>\n",
              "      <td>6</td>\n",
              "    </tr>\n",
              "    <tr>\n",
              "      <th>3</th>\n",
              "      <td>134</td>\n",
              "      <td>82</td>\n",
              "      <td>78</td>\n",
              "      <td>38</td>\n",
              "      <td>18</td>\n",
              "      <td>22</td>\n",
              "      <td>28</td>\n",
              "      <td>36</td>\n",
              "      <td>352</td>\n",
              "      <td>58</td>\n",
              "      <td>18</td>\n",
              "    </tr>\n",
              "    <tr>\n",
              "      <th>4</th>\n",
              "      <td>471</td>\n",
              "      <td>468</td>\n",
              "      <td>216</td>\n",
              "      <td>75</td>\n",
              "      <td>6</td>\n",
              "      <td>30</td>\n",
              "      <td>66</td>\n",
              "      <td>141</td>\n",
              "      <td>699</td>\n",
              "      <td>183</td>\n",
              "      <td>24</td>\n",
              "    </tr>\n",
              "    <tr>\n",
              "      <th>...</th>\n",
              "      <td>...</td>\n",
              "      <td>...</td>\n",
              "      <td>...</td>\n",
              "      <td>...</td>\n",
              "      <td>...</td>\n",
              "      <td>...</td>\n",
              "      <td>...</td>\n",
              "      <td>...</td>\n",
              "      <td>...</td>\n",
              "      <td>...</td>\n",
              "      <td>...</td>\n",
              "    </tr>\n",
              "    <tr>\n",
              "      <th>228</th>\n",
              "      <td>52</td>\n",
              "      <td>116</td>\n",
              "      <td>190</td>\n",
              "      <td>102</td>\n",
              "      <td>276</td>\n",
              "      <td>372</td>\n",
              "      <td>316</td>\n",
              "      <td>4</td>\n",
              "      <td>96</td>\n",
              "      <td>132</td>\n",
              "      <td>4</td>\n",
              "    </tr>\n",
              "    <tr>\n",
              "      <th>229</th>\n",
              "      <td>1</td>\n",
              "      <td>1</td>\n",
              "      <td>1</td>\n",
              "      <td>1</td>\n",
              "      <td>1</td>\n",
              "      <td>37</td>\n",
              "      <td>37</td>\n",
              "      <td>19</td>\n",
              "      <td>226</td>\n",
              "      <td>115</td>\n",
              "      <td>13</td>\n",
              "    </tr>\n",
              "    <tr>\n",
              "      <th>230</th>\n",
              "      <td>20</td>\n",
              "      <td>20</td>\n",
              "      <td>20</td>\n",
              "      <td>20</td>\n",
              "      <td>20</td>\n",
              "      <td>20</td>\n",
              "      <td>20</td>\n",
              "      <td>22</td>\n",
              "      <td>56</td>\n",
              "      <td>20</td>\n",
              "      <td>20</td>\n",
              "    </tr>\n",
              "    <tr>\n",
              "      <th>231</th>\n",
              "      <td>15</td>\n",
              "      <td>15</td>\n",
              "      <td>15</td>\n",
              "      <td>15</td>\n",
              "      <td>55</td>\n",
              "      <td>127</td>\n",
              "      <td>195</td>\n",
              "      <td>155</td>\n",
              "      <td>103</td>\n",
              "      <td>23</td>\n",
              "      <td>15</td>\n",
              "    </tr>\n",
              "    <tr>\n",
              "      <th>232</th>\n",
              "      <td>11</td>\n",
              "      <td>11</td>\n",
              "      <td>11</td>\n",
              "      <td>11</td>\n",
              "      <td>11</td>\n",
              "      <td>12</td>\n",
              "      <td>11</td>\n",
              "      <td>536</td>\n",
              "      <td>718</td>\n",
              "      <td>425</td>\n",
              "      <td>57</td>\n",
              "    </tr>\n",
              "  </tbody>\n",
              "</table>\n",
              "<p>233 rows × 11 columns</p>\n",
              "</div>\n",
              "      <button class=\"colab-df-convert\" onclick=\"convertToInteractive('df-77030c23-a24f-4295-b205-d333bbf4e5d3')\"\n",
              "              title=\"Convert this dataframe to an interactive table.\"\n",
              "              style=\"display:none;\">\n",
              "        \n",
              "  <svg xmlns=\"http://www.w3.org/2000/svg\" height=\"24px\"viewBox=\"0 0 24 24\"\n",
              "       width=\"24px\">\n",
              "    <path d=\"M0 0h24v24H0V0z\" fill=\"none\"/>\n",
              "    <path d=\"M18.56 5.44l.94 2.06.94-2.06 2.06-.94-2.06-.94-.94-2.06-.94 2.06-2.06.94zm-11 1L8.5 8.5l.94-2.06 2.06-.94-2.06-.94L8.5 2.5l-.94 2.06-2.06.94zm10 10l.94 2.06.94-2.06 2.06-.94-2.06-.94-.94-2.06-.94 2.06-2.06.94z\"/><path d=\"M17.41 7.96l-1.37-1.37c-.4-.4-.92-.59-1.43-.59-.52 0-1.04.2-1.43.59L10.3 9.45l-7.72 7.72c-.78.78-.78 2.05 0 2.83L4 21.41c.39.39.9.59 1.41.59.51 0 1.02-.2 1.41-.59l7.78-7.78 2.81-2.81c.8-.78.8-2.07 0-2.86zM5.41 20L4 18.59l7.72-7.72 1.47 1.35L5.41 20z\"/>\n",
              "  </svg>\n",
              "      </button>\n",
              "      \n",
              "  <style>\n",
              "    .colab-df-container {\n",
              "      display:flex;\n",
              "      flex-wrap:wrap;\n",
              "      gap: 12px;\n",
              "    }\n",
              "\n",
              "    .colab-df-convert {\n",
              "      background-color: #E8F0FE;\n",
              "      border: none;\n",
              "      border-radius: 50%;\n",
              "      cursor: pointer;\n",
              "      display: none;\n",
              "      fill: #1967D2;\n",
              "      height: 32px;\n",
              "      padding: 0 0 0 0;\n",
              "      width: 32px;\n",
              "    }\n",
              "\n",
              "    .colab-df-convert:hover {\n",
              "      background-color: #E2EBFA;\n",
              "      box-shadow: 0px 1px 2px rgba(60, 64, 67, 0.3), 0px 1px 3px 1px rgba(60, 64, 67, 0.15);\n",
              "      fill: #174EA6;\n",
              "    }\n",
              "\n",
              "    [theme=dark] .colab-df-convert {\n",
              "      background-color: #3B4455;\n",
              "      fill: #D2E3FC;\n",
              "    }\n",
              "\n",
              "    [theme=dark] .colab-df-convert:hover {\n",
              "      background-color: #434B5C;\n",
              "      box-shadow: 0px 1px 3px 1px rgba(0, 0, 0, 0.15);\n",
              "      filter: drop-shadow(0px 1px 2px rgba(0, 0, 0, 0.3));\n",
              "      fill: #FFFFFF;\n",
              "    }\n",
              "  </style>\n",
              "\n",
              "      <script>\n",
              "        const buttonEl =\n",
              "          document.querySelector('#df-77030c23-a24f-4295-b205-d333bbf4e5d3 button.colab-df-convert');\n",
              "        buttonEl.style.display =\n",
              "          google.colab.kernel.accessAllowed ? 'block' : 'none';\n",
              "\n",
              "        async function convertToInteractive(key) {\n",
              "          const element = document.querySelector('#df-77030c23-a24f-4295-b205-d333bbf4e5d3');\n",
              "          const dataTable =\n",
              "            await google.colab.kernel.invokeFunction('convertToInteractive',\n",
              "                                                     [key], {});\n",
              "          if (!dataTable) return;\n",
              "\n",
              "          const docLinkHtml = 'Like what you see? Visit the ' +\n",
              "            '<a target=\"_blank\" href=https://colab.research.google.com/notebooks/data_table.ipynb>data table notebook</a>'\n",
              "            + ' to learn more about interactive tables.';\n",
              "          element.innerHTML = '';\n",
              "          dataTable['output_type'] = 'display_data';\n",
              "          await google.colab.output.renderOutput(dataTable, element);\n",
              "          const docLink = document.createElement('div');\n",
              "          docLink.innerHTML = docLinkHtml;\n",
              "          element.appendChild(docLink);\n",
              "        }\n",
              "      </script>\n",
              "    </div>\n",
              "  </div>\n",
              "  "
            ],
            "text/plain": [
              "       1    2    3    4    5    6    7    8    9   10  11\n",
              "0      8   12    8    8    8    8    8   14   16    8  12\n",
              "1     73   16    7    7    7    7    7   13   43   13  43\n",
              "2      6    8    6    6    6    6    6    6    8   26   6\n",
              "3    134   82   78   38   18   22   28   36  352   58  18\n",
              "4    471  468  216   75    6   30   66  141  699  183  24\n",
              "..   ...  ...  ...  ...  ...  ...  ...  ...  ...  ...  ..\n",
              "228   52  116  190  102  276  372  316    4   96  132   4\n",
              "229    1    1    1    1    1   37   37   19  226  115  13\n",
              "230   20   20   20   20   20   20   20   22   56   20  20\n",
              "231   15   15   15   15   55  127  195  155  103   23  15\n",
              "232   11   11   11   11   11   12   11  536  718  425  57\n",
              "\n",
              "[233 rows x 11 columns]"
            ]
          },
          "metadata": {},
          "execution_count": 48
        }
      ]
    },
    {
      "cell_type": "code",
      "source": [
        "df2=pd.read_csv('stackedNorth_train.csv')\n",
        "df2\n",
        "df2=df2.drop(['Unnamed: 0'],axis=1)\n",
        "df2\n",
        "df2=df2.drop(['0'],axis=1)\n",
        "df2"
      ],
      "metadata": {
        "colab": {
          "base_uri": "https://localhost:8080/",
          "height": 423
        },
        "id": "S1f6nX7-c-Wv",
        "outputId": "143a6a08-4ae0-4bf0-f040-3020bfae7580"
      },
      "execution_count": 49,
      "outputs": [
        {
          "output_type": "execute_result",
          "data": {
            "text/html": [
              "\n",
              "  <div id=\"df-514ce406-fc60-4d38-aafa-b7e89a2c86b0\">\n",
              "    <div class=\"colab-df-container\">\n",
              "      <div>\n",
              "<style scoped>\n",
              "    .dataframe tbody tr th:only-of-type {\n",
              "        vertical-align: middle;\n",
              "    }\n",
              "\n",
              "    .dataframe tbody tr th {\n",
              "        vertical-align: top;\n",
              "    }\n",
              "\n",
              "    .dataframe thead th {\n",
              "        text-align: right;\n",
              "    }\n",
              "</style>\n",
              "<table border=\"1\" class=\"dataframe\">\n",
              "  <thead>\n",
              "    <tr style=\"text-align: right;\">\n",
              "      <th></th>\n",
              "      <th>1</th>\n",
              "      <th>2</th>\n",
              "      <th>3</th>\n",
              "      <th>4</th>\n",
              "      <th>5</th>\n",
              "      <th>6</th>\n",
              "      <th>7</th>\n",
              "      <th>8</th>\n",
              "      <th>9</th>\n",
              "      <th>10</th>\n",
              "      <th>11</th>\n",
              "    </tr>\n",
              "  </thead>\n",
              "  <tbody>\n",
              "    <tr>\n",
              "      <th>0</th>\n",
              "      <td>14</td>\n",
              "      <td>22</td>\n",
              "      <td>8</td>\n",
              "      <td>8</td>\n",
              "      <td>8</td>\n",
              "      <td>8</td>\n",
              "      <td>8</td>\n",
              "      <td>8</td>\n",
              "      <td>13</td>\n",
              "      <td>53</td>\n",
              "      <td>19</td>\n",
              "    </tr>\n",
              "    <tr>\n",
              "      <th>1</th>\n",
              "      <td>130</td>\n",
              "      <td>58</td>\n",
              "      <td>10</td>\n",
              "      <td>7</td>\n",
              "      <td>7</td>\n",
              "      <td>7</td>\n",
              "      <td>13</td>\n",
              "      <td>7</td>\n",
              "      <td>55</td>\n",
              "      <td>64</td>\n",
              "      <td>76</td>\n",
              "    </tr>\n",
              "    <tr>\n",
              "      <th>2</th>\n",
              "      <td>6</td>\n",
              "      <td>6</td>\n",
              "      <td>6</td>\n",
              "      <td>6</td>\n",
              "      <td>6</td>\n",
              "      <td>6</td>\n",
              "      <td>6</td>\n",
              "      <td>6</td>\n",
              "      <td>6</td>\n",
              "      <td>26</td>\n",
              "      <td>8</td>\n",
              "    </tr>\n",
              "    <tr>\n",
              "      <th>3</th>\n",
              "      <td>172</td>\n",
              "      <td>90</td>\n",
              "      <td>40</td>\n",
              "      <td>18</td>\n",
              "      <td>26</td>\n",
              "      <td>18</td>\n",
              "      <td>66</td>\n",
              "      <td>18</td>\n",
              "      <td>100</td>\n",
              "      <td>140</td>\n",
              "      <td>84</td>\n",
              "    </tr>\n",
              "    <tr>\n",
              "      <th>4</th>\n",
              "      <td>615</td>\n",
              "      <td>300</td>\n",
              "      <td>417</td>\n",
              "      <td>141</td>\n",
              "      <td>42</td>\n",
              "      <td>72</td>\n",
              "      <td>33</td>\n",
              "      <td>42</td>\n",
              "      <td>186</td>\n",
              "      <td>465</td>\n",
              "      <td>321</td>\n",
              "    </tr>\n",
              "    <tr>\n",
              "      <th>...</th>\n",
              "      <td>...</td>\n",
              "      <td>...</td>\n",
              "      <td>...</td>\n",
              "      <td>...</td>\n",
              "      <td>...</td>\n",
              "      <td>...</td>\n",
              "      <td>...</td>\n",
              "      <td>...</td>\n",
              "      <td>...</td>\n",
              "      <td>...</td>\n",
              "      <td>...</td>\n",
              "    </tr>\n",
              "    <tr>\n",
              "      <th>461</th>\n",
              "      <td>4</td>\n",
              "      <td>4</td>\n",
              "      <td>4</td>\n",
              "      <td>4</td>\n",
              "      <td>4</td>\n",
              "      <td>4</td>\n",
              "      <td>4</td>\n",
              "      <td>4</td>\n",
              "      <td>20</td>\n",
              "      <td>4</td>\n",
              "      <td>4</td>\n",
              "    </tr>\n",
              "    <tr>\n",
              "      <th>462</th>\n",
              "      <td>76</td>\n",
              "      <td>97</td>\n",
              "      <td>73</td>\n",
              "      <td>19</td>\n",
              "      <td>1</td>\n",
              "      <td>1</td>\n",
              "      <td>1</td>\n",
              "      <td>1</td>\n",
              "      <td>25</td>\n",
              "      <td>253</td>\n",
              "      <td>298</td>\n",
              "    </tr>\n",
              "    <tr>\n",
              "      <th>463</th>\n",
              "      <td>20</td>\n",
              "      <td>46</td>\n",
              "      <td>40</td>\n",
              "      <td>20</td>\n",
              "      <td>20</td>\n",
              "      <td>20</td>\n",
              "      <td>21</td>\n",
              "      <td>20</td>\n",
              "      <td>20</td>\n",
              "      <td>26</td>\n",
              "      <td>92</td>\n",
              "    </tr>\n",
              "    <tr>\n",
              "      <th>464</th>\n",
              "      <td>29</td>\n",
              "      <td>135</td>\n",
              "      <td>79</td>\n",
              "      <td>27</td>\n",
              "      <td>57</td>\n",
              "      <td>15</td>\n",
              "      <td>63</td>\n",
              "      <td>295</td>\n",
              "      <td>17</td>\n",
              "      <td>297</td>\n",
              "      <td>151</td>\n",
              "    </tr>\n",
              "    <tr>\n",
              "      <th>465</th>\n",
              "      <td>17</td>\n",
              "      <td>17</td>\n",
              "      <td>15</td>\n",
              "      <td>11</td>\n",
              "      <td>11</td>\n",
              "      <td>11</td>\n",
              "      <td>11</td>\n",
              "      <td>80</td>\n",
              "      <td>11</td>\n",
              "      <td>91</td>\n",
              "      <td>31</td>\n",
              "    </tr>\n",
              "  </tbody>\n",
              "</table>\n",
              "<p>466 rows × 11 columns</p>\n",
              "</div>\n",
              "      <button class=\"colab-df-convert\" onclick=\"convertToInteractive('df-514ce406-fc60-4d38-aafa-b7e89a2c86b0')\"\n",
              "              title=\"Convert this dataframe to an interactive table.\"\n",
              "              style=\"display:none;\">\n",
              "        \n",
              "  <svg xmlns=\"http://www.w3.org/2000/svg\" height=\"24px\"viewBox=\"0 0 24 24\"\n",
              "       width=\"24px\">\n",
              "    <path d=\"M0 0h24v24H0V0z\" fill=\"none\"/>\n",
              "    <path d=\"M18.56 5.44l.94 2.06.94-2.06 2.06-.94-2.06-.94-.94-2.06-.94 2.06-2.06.94zm-11 1L8.5 8.5l.94-2.06 2.06-.94-2.06-.94L8.5 2.5l-.94 2.06-2.06.94zm10 10l.94 2.06.94-2.06 2.06-.94-2.06-.94-.94-2.06-.94 2.06-2.06.94z\"/><path d=\"M17.41 7.96l-1.37-1.37c-.4-.4-.92-.59-1.43-.59-.52 0-1.04.2-1.43.59L10.3 9.45l-7.72 7.72c-.78.78-.78 2.05 0 2.83L4 21.41c.39.39.9.59 1.41.59.51 0 1.02-.2 1.41-.59l7.78-7.78 2.81-2.81c.8-.78.8-2.07 0-2.86zM5.41 20L4 18.59l7.72-7.72 1.47 1.35L5.41 20z\"/>\n",
              "  </svg>\n",
              "      </button>\n",
              "      \n",
              "  <style>\n",
              "    .colab-df-container {\n",
              "      display:flex;\n",
              "      flex-wrap:wrap;\n",
              "      gap: 12px;\n",
              "    }\n",
              "\n",
              "    .colab-df-convert {\n",
              "      background-color: #E8F0FE;\n",
              "      border: none;\n",
              "      border-radius: 50%;\n",
              "      cursor: pointer;\n",
              "      display: none;\n",
              "      fill: #1967D2;\n",
              "      height: 32px;\n",
              "      padding: 0 0 0 0;\n",
              "      width: 32px;\n",
              "    }\n",
              "\n",
              "    .colab-df-convert:hover {\n",
              "      background-color: #E2EBFA;\n",
              "      box-shadow: 0px 1px 2px rgba(60, 64, 67, 0.3), 0px 1px 3px 1px rgba(60, 64, 67, 0.15);\n",
              "      fill: #174EA6;\n",
              "    }\n",
              "\n",
              "    [theme=dark] .colab-df-convert {\n",
              "      background-color: #3B4455;\n",
              "      fill: #D2E3FC;\n",
              "    }\n",
              "\n",
              "    [theme=dark] .colab-df-convert:hover {\n",
              "      background-color: #434B5C;\n",
              "      box-shadow: 0px 1px 3px 1px rgba(0, 0, 0, 0.15);\n",
              "      filter: drop-shadow(0px 1px 2px rgba(0, 0, 0, 0.3));\n",
              "      fill: #FFFFFF;\n",
              "    }\n",
              "  </style>\n",
              "\n",
              "      <script>\n",
              "        const buttonEl =\n",
              "          document.querySelector('#df-514ce406-fc60-4d38-aafa-b7e89a2c86b0 button.colab-df-convert');\n",
              "        buttonEl.style.display =\n",
              "          google.colab.kernel.accessAllowed ? 'block' : 'none';\n",
              "\n",
              "        async function convertToInteractive(key) {\n",
              "          const element = document.querySelector('#df-514ce406-fc60-4d38-aafa-b7e89a2c86b0');\n",
              "          const dataTable =\n",
              "            await google.colab.kernel.invokeFunction('convertToInteractive',\n",
              "                                                     [key], {});\n",
              "          if (!dataTable) return;\n",
              "\n",
              "          const docLinkHtml = 'Like what you see? Visit the ' +\n",
              "            '<a target=\"_blank\" href=https://colab.research.google.com/notebooks/data_table.ipynb>data table notebook</a>'\n",
              "            + ' to learn more about interactive tables.';\n",
              "          element.innerHTML = '';\n",
              "          dataTable['output_type'] = 'display_data';\n",
              "          await google.colab.output.renderOutput(dataTable, element);\n",
              "          const docLink = document.createElement('div');\n",
              "          docLink.innerHTML = docLinkHtml;\n",
              "          element.appendChild(docLink);\n",
              "        }\n",
              "      </script>\n",
              "    </div>\n",
              "  </div>\n",
              "  "
            ],
            "text/plain": [
              "       1    2    3    4   5   6   7    8    9   10   11\n",
              "0     14   22    8    8   8   8   8    8   13   53   19\n",
              "1    130   58   10    7   7   7  13    7   55   64   76\n",
              "2      6    6    6    6   6   6   6    6    6   26    8\n",
              "3    172   90   40   18  26  18  66   18  100  140   84\n",
              "4    615  300  417  141  42  72  33   42  186  465  321\n",
              "..   ...  ...  ...  ...  ..  ..  ..  ...  ...  ...  ...\n",
              "461    4    4    4    4   4   4   4    4   20    4    4\n",
              "462   76   97   73   19   1   1   1    1   25  253  298\n",
              "463   20   46   40   20  20  20  21   20   20   26   92\n",
              "464   29  135   79   27  57  15  63  295   17  297  151\n",
              "465   17   17   15   11  11  11  11   80   11   91   31\n",
              "\n",
              "[466 rows x 11 columns]"
            ]
          },
          "metadata": {},
          "execution_count": 49
        }
      ]
    },
    {
      "cell_type": "code",
      "source": [
        "x_train=df2.drop(['11'],axis=1)\n",
        "x_train"
      ],
      "metadata": {
        "colab": {
          "base_uri": "https://localhost:8080/",
          "height": 423
        },
        "id": "8x2ex47ady_A",
        "outputId": "c266af2d-2a6c-4eb1-8188-cd02a9039c76"
      },
      "execution_count": 50,
      "outputs": [
        {
          "output_type": "execute_result",
          "data": {
            "text/html": [
              "\n",
              "  <div id=\"df-6fd8a677-5b6f-4afd-b11b-43a0d0e144a6\">\n",
              "    <div class=\"colab-df-container\">\n",
              "      <div>\n",
              "<style scoped>\n",
              "    .dataframe tbody tr th:only-of-type {\n",
              "        vertical-align: middle;\n",
              "    }\n",
              "\n",
              "    .dataframe tbody tr th {\n",
              "        vertical-align: top;\n",
              "    }\n",
              "\n",
              "    .dataframe thead th {\n",
              "        text-align: right;\n",
              "    }\n",
              "</style>\n",
              "<table border=\"1\" class=\"dataframe\">\n",
              "  <thead>\n",
              "    <tr style=\"text-align: right;\">\n",
              "      <th></th>\n",
              "      <th>1</th>\n",
              "      <th>2</th>\n",
              "      <th>3</th>\n",
              "      <th>4</th>\n",
              "      <th>5</th>\n",
              "      <th>6</th>\n",
              "      <th>7</th>\n",
              "      <th>8</th>\n",
              "      <th>9</th>\n",
              "      <th>10</th>\n",
              "    </tr>\n",
              "  </thead>\n",
              "  <tbody>\n",
              "    <tr>\n",
              "      <th>0</th>\n",
              "      <td>14</td>\n",
              "      <td>22</td>\n",
              "      <td>8</td>\n",
              "      <td>8</td>\n",
              "      <td>8</td>\n",
              "      <td>8</td>\n",
              "      <td>8</td>\n",
              "      <td>8</td>\n",
              "      <td>13</td>\n",
              "      <td>53</td>\n",
              "    </tr>\n",
              "    <tr>\n",
              "      <th>1</th>\n",
              "      <td>130</td>\n",
              "      <td>58</td>\n",
              "      <td>10</td>\n",
              "      <td>7</td>\n",
              "      <td>7</td>\n",
              "      <td>7</td>\n",
              "      <td>13</td>\n",
              "      <td>7</td>\n",
              "      <td>55</td>\n",
              "      <td>64</td>\n",
              "    </tr>\n",
              "    <tr>\n",
              "      <th>2</th>\n",
              "      <td>6</td>\n",
              "      <td>6</td>\n",
              "      <td>6</td>\n",
              "      <td>6</td>\n",
              "      <td>6</td>\n",
              "      <td>6</td>\n",
              "      <td>6</td>\n",
              "      <td>6</td>\n",
              "      <td>6</td>\n",
              "      <td>26</td>\n",
              "    </tr>\n",
              "    <tr>\n",
              "      <th>3</th>\n",
              "      <td>172</td>\n",
              "      <td>90</td>\n",
              "      <td>40</td>\n",
              "      <td>18</td>\n",
              "      <td>26</td>\n",
              "      <td>18</td>\n",
              "      <td>66</td>\n",
              "      <td>18</td>\n",
              "      <td>100</td>\n",
              "      <td>140</td>\n",
              "    </tr>\n",
              "    <tr>\n",
              "      <th>4</th>\n",
              "      <td>615</td>\n",
              "      <td>300</td>\n",
              "      <td>417</td>\n",
              "      <td>141</td>\n",
              "      <td>42</td>\n",
              "      <td>72</td>\n",
              "      <td>33</td>\n",
              "      <td>42</td>\n",
              "      <td>186</td>\n",
              "      <td>465</td>\n",
              "    </tr>\n",
              "    <tr>\n",
              "      <th>...</th>\n",
              "      <td>...</td>\n",
              "      <td>...</td>\n",
              "      <td>...</td>\n",
              "      <td>...</td>\n",
              "      <td>...</td>\n",
              "      <td>...</td>\n",
              "      <td>...</td>\n",
              "      <td>...</td>\n",
              "      <td>...</td>\n",
              "      <td>...</td>\n",
              "    </tr>\n",
              "    <tr>\n",
              "      <th>461</th>\n",
              "      <td>4</td>\n",
              "      <td>4</td>\n",
              "      <td>4</td>\n",
              "      <td>4</td>\n",
              "      <td>4</td>\n",
              "      <td>4</td>\n",
              "      <td>4</td>\n",
              "      <td>4</td>\n",
              "      <td>20</td>\n",
              "      <td>4</td>\n",
              "    </tr>\n",
              "    <tr>\n",
              "      <th>462</th>\n",
              "      <td>76</td>\n",
              "      <td>97</td>\n",
              "      <td>73</td>\n",
              "      <td>19</td>\n",
              "      <td>1</td>\n",
              "      <td>1</td>\n",
              "      <td>1</td>\n",
              "      <td>1</td>\n",
              "      <td>25</td>\n",
              "      <td>253</td>\n",
              "    </tr>\n",
              "    <tr>\n",
              "      <th>463</th>\n",
              "      <td>20</td>\n",
              "      <td>46</td>\n",
              "      <td>40</td>\n",
              "      <td>20</td>\n",
              "      <td>20</td>\n",
              "      <td>20</td>\n",
              "      <td>21</td>\n",
              "      <td>20</td>\n",
              "      <td>20</td>\n",
              "      <td>26</td>\n",
              "    </tr>\n",
              "    <tr>\n",
              "      <th>464</th>\n",
              "      <td>29</td>\n",
              "      <td>135</td>\n",
              "      <td>79</td>\n",
              "      <td>27</td>\n",
              "      <td>57</td>\n",
              "      <td>15</td>\n",
              "      <td>63</td>\n",
              "      <td>295</td>\n",
              "      <td>17</td>\n",
              "      <td>297</td>\n",
              "    </tr>\n",
              "    <tr>\n",
              "      <th>465</th>\n",
              "      <td>17</td>\n",
              "      <td>17</td>\n",
              "      <td>15</td>\n",
              "      <td>11</td>\n",
              "      <td>11</td>\n",
              "      <td>11</td>\n",
              "      <td>11</td>\n",
              "      <td>80</td>\n",
              "      <td>11</td>\n",
              "      <td>91</td>\n",
              "    </tr>\n",
              "  </tbody>\n",
              "</table>\n",
              "<p>466 rows × 10 columns</p>\n",
              "</div>\n",
              "      <button class=\"colab-df-convert\" onclick=\"convertToInteractive('df-6fd8a677-5b6f-4afd-b11b-43a0d0e144a6')\"\n",
              "              title=\"Convert this dataframe to an interactive table.\"\n",
              "              style=\"display:none;\">\n",
              "        \n",
              "  <svg xmlns=\"http://www.w3.org/2000/svg\" height=\"24px\"viewBox=\"0 0 24 24\"\n",
              "       width=\"24px\">\n",
              "    <path d=\"M0 0h24v24H0V0z\" fill=\"none\"/>\n",
              "    <path d=\"M18.56 5.44l.94 2.06.94-2.06 2.06-.94-2.06-.94-.94-2.06-.94 2.06-2.06.94zm-11 1L8.5 8.5l.94-2.06 2.06-.94-2.06-.94L8.5 2.5l-.94 2.06-2.06.94zm10 10l.94 2.06.94-2.06 2.06-.94-2.06-.94-.94-2.06-.94 2.06-2.06.94z\"/><path d=\"M17.41 7.96l-1.37-1.37c-.4-.4-.92-.59-1.43-.59-.52 0-1.04.2-1.43.59L10.3 9.45l-7.72 7.72c-.78.78-.78 2.05 0 2.83L4 21.41c.39.39.9.59 1.41.59.51 0 1.02-.2 1.41-.59l7.78-7.78 2.81-2.81c.8-.78.8-2.07 0-2.86zM5.41 20L4 18.59l7.72-7.72 1.47 1.35L5.41 20z\"/>\n",
              "  </svg>\n",
              "      </button>\n",
              "      \n",
              "  <style>\n",
              "    .colab-df-container {\n",
              "      display:flex;\n",
              "      flex-wrap:wrap;\n",
              "      gap: 12px;\n",
              "    }\n",
              "\n",
              "    .colab-df-convert {\n",
              "      background-color: #E8F0FE;\n",
              "      border: none;\n",
              "      border-radius: 50%;\n",
              "      cursor: pointer;\n",
              "      display: none;\n",
              "      fill: #1967D2;\n",
              "      height: 32px;\n",
              "      padding: 0 0 0 0;\n",
              "      width: 32px;\n",
              "    }\n",
              "\n",
              "    .colab-df-convert:hover {\n",
              "      background-color: #E2EBFA;\n",
              "      box-shadow: 0px 1px 2px rgba(60, 64, 67, 0.3), 0px 1px 3px 1px rgba(60, 64, 67, 0.15);\n",
              "      fill: #174EA6;\n",
              "    }\n",
              "\n",
              "    [theme=dark] .colab-df-convert {\n",
              "      background-color: #3B4455;\n",
              "      fill: #D2E3FC;\n",
              "    }\n",
              "\n",
              "    [theme=dark] .colab-df-convert:hover {\n",
              "      background-color: #434B5C;\n",
              "      box-shadow: 0px 1px 3px 1px rgba(0, 0, 0, 0.15);\n",
              "      filter: drop-shadow(0px 1px 2px rgba(0, 0, 0, 0.3));\n",
              "      fill: #FFFFFF;\n",
              "    }\n",
              "  </style>\n",
              "\n",
              "      <script>\n",
              "        const buttonEl =\n",
              "          document.querySelector('#df-6fd8a677-5b6f-4afd-b11b-43a0d0e144a6 button.colab-df-convert');\n",
              "        buttonEl.style.display =\n",
              "          google.colab.kernel.accessAllowed ? 'block' : 'none';\n",
              "\n",
              "        async function convertToInteractive(key) {\n",
              "          const element = document.querySelector('#df-6fd8a677-5b6f-4afd-b11b-43a0d0e144a6');\n",
              "          const dataTable =\n",
              "            await google.colab.kernel.invokeFunction('convertToInteractive',\n",
              "                                                     [key], {});\n",
              "          if (!dataTable) return;\n",
              "\n",
              "          const docLinkHtml = 'Like what you see? Visit the ' +\n",
              "            '<a target=\"_blank\" href=https://colab.research.google.com/notebooks/data_table.ipynb>data table notebook</a>'\n",
              "            + ' to learn more about interactive tables.';\n",
              "          element.innerHTML = '';\n",
              "          dataTable['output_type'] = 'display_data';\n",
              "          await google.colab.output.renderOutput(dataTable, element);\n",
              "          const docLink = document.createElement('div');\n",
              "          docLink.innerHTML = docLinkHtml;\n",
              "          element.appendChild(docLink);\n",
              "        }\n",
              "      </script>\n",
              "    </div>\n",
              "  </div>\n",
              "  "
            ],
            "text/plain": [
              "       1    2    3    4   5   6   7    8    9   10\n",
              "0     14   22    8    8   8   8   8    8   13   53\n",
              "1    130   58   10    7   7   7  13    7   55   64\n",
              "2      6    6    6    6   6   6   6    6    6   26\n",
              "3    172   90   40   18  26  18  66   18  100  140\n",
              "4    615  300  417  141  42  72  33   42  186  465\n",
              "..   ...  ...  ...  ...  ..  ..  ..  ...  ...  ...\n",
              "461    4    4    4    4   4   4   4    4   20    4\n",
              "462   76   97   73   19   1   1   1    1   25  253\n",
              "463   20   46   40   20  20  20  21   20   20   26\n",
              "464   29  135   79   27  57  15  63  295   17  297\n",
              "465   17   17   15   11  11  11  11   80   11   91\n",
              "\n",
              "[466 rows x 10 columns]"
            ]
          },
          "metadata": {},
          "execution_count": 50
        }
      ]
    },
    {
      "cell_type": "code",
      "source": [
        "y_train=df2.iloc[:,10]\n",
        "y_train"
      ],
      "metadata": {
        "colab": {
          "base_uri": "https://localhost:8080/"
        },
        "id": "qMR-lDm2gKoP",
        "outputId": "b7c52721-79fa-46e1-a6b8-8d06e9185de7"
      },
      "execution_count": 51,
      "outputs": [
        {
          "output_type": "execute_result",
          "data": {
            "text/plain": [
              "0       19\n",
              "1       76\n",
              "2        8\n",
              "3       84\n",
              "4      321\n",
              "      ... \n",
              "461      4\n",
              "462    298\n",
              "463     92\n",
              "464    151\n",
              "465     31\n",
              "Name: 11, Length: 466, dtype: int64"
            ]
          },
          "metadata": {},
          "execution_count": 51
        }
      ]
    },
    {
      "cell_type": "code",
      "source": [
        "x_test=df1.drop(['11'],axis=1)\n",
        "x_test"
      ],
      "metadata": {
        "colab": {
          "base_uri": "https://localhost:8080/",
          "height": 423
        },
        "id": "W6dXRXZJgPeS",
        "outputId": "7a7917df-896d-4ec9-ba24-9cf3ae5065ed"
      },
      "execution_count": 54,
      "outputs": [
        {
          "output_type": "execute_result",
          "data": {
            "text/html": [
              "\n",
              "  <div id=\"df-2504a380-4b87-40c6-ac7a-6dee614c809b\">\n",
              "    <div class=\"colab-df-container\">\n",
              "      <div>\n",
              "<style scoped>\n",
              "    .dataframe tbody tr th:only-of-type {\n",
              "        vertical-align: middle;\n",
              "    }\n",
              "\n",
              "    .dataframe tbody tr th {\n",
              "        vertical-align: top;\n",
              "    }\n",
              "\n",
              "    .dataframe thead th {\n",
              "        text-align: right;\n",
              "    }\n",
              "</style>\n",
              "<table border=\"1\" class=\"dataframe\">\n",
              "  <thead>\n",
              "    <tr style=\"text-align: right;\">\n",
              "      <th></th>\n",
              "      <th>1</th>\n",
              "      <th>2</th>\n",
              "      <th>3</th>\n",
              "      <th>4</th>\n",
              "      <th>5</th>\n",
              "      <th>6</th>\n",
              "      <th>7</th>\n",
              "      <th>8</th>\n",
              "      <th>9</th>\n",
              "      <th>10</th>\n",
              "    </tr>\n",
              "  </thead>\n",
              "  <tbody>\n",
              "    <tr>\n",
              "      <th>0</th>\n",
              "      <td>8</td>\n",
              "      <td>12</td>\n",
              "      <td>8</td>\n",
              "      <td>8</td>\n",
              "      <td>8</td>\n",
              "      <td>8</td>\n",
              "      <td>8</td>\n",
              "      <td>14</td>\n",
              "      <td>16</td>\n",
              "      <td>8</td>\n",
              "    </tr>\n",
              "    <tr>\n",
              "      <th>1</th>\n",
              "      <td>73</td>\n",
              "      <td>16</td>\n",
              "      <td>7</td>\n",
              "      <td>7</td>\n",
              "      <td>7</td>\n",
              "      <td>7</td>\n",
              "      <td>7</td>\n",
              "      <td>13</td>\n",
              "      <td>43</td>\n",
              "      <td>13</td>\n",
              "    </tr>\n",
              "    <tr>\n",
              "      <th>2</th>\n",
              "      <td>6</td>\n",
              "      <td>8</td>\n",
              "      <td>6</td>\n",
              "      <td>6</td>\n",
              "      <td>6</td>\n",
              "      <td>6</td>\n",
              "      <td>6</td>\n",
              "      <td>6</td>\n",
              "      <td>8</td>\n",
              "      <td>26</td>\n",
              "    </tr>\n",
              "    <tr>\n",
              "      <th>3</th>\n",
              "      <td>134</td>\n",
              "      <td>82</td>\n",
              "      <td>78</td>\n",
              "      <td>38</td>\n",
              "      <td>18</td>\n",
              "      <td>22</td>\n",
              "      <td>28</td>\n",
              "      <td>36</td>\n",
              "      <td>352</td>\n",
              "      <td>58</td>\n",
              "    </tr>\n",
              "    <tr>\n",
              "      <th>4</th>\n",
              "      <td>471</td>\n",
              "      <td>468</td>\n",
              "      <td>216</td>\n",
              "      <td>75</td>\n",
              "      <td>6</td>\n",
              "      <td>30</td>\n",
              "      <td>66</td>\n",
              "      <td>141</td>\n",
              "      <td>699</td>\n",
              "      <td>183</td>\n",
              "    </tr>\n",
              "    <tr>\n",
              "      <th>...</th>\n",
              "      <td>...</td>\n",
              "      <td>...</td>\n",
              "      <td>...</td>\n",
              "      <td>...</td>\n",
              "      <td>...</td>\n",
              "      <td>...</td>\n",
              "      <td>...</td>\n",
              "      <td>...</td>\n",
              "      <td>...</td>\n",
              "      <td>...</td>\n",
              "    </tr>\n",
              "    <tr>\n",
              "      <th>228</th>\n",
              "      <td>52</td>\n",
              "      <td>116</td>\n",
              "      <td>190</td>\n",
              "      <td>102</td>\n",
              "      <td>276</td>\n",
              "      <td>372</td>\n",
              "      <td>316</td>\n",
              "      <td>4</td>\n",
              "      <td>96</td>\n",
              "      <td>132</td>\n",
              "    </tr>\n",
              "    <tr>\n",
              "      <th>229</th>\n",
              "      <td>1</td>\n",
              "      <td>1</td>\n",
              "      <td>1</td>\n",
              "      <td>1</td>\n",
              "      <td>1</td>\n",
              "      <td>37</td>\n",
              "      <td>37</td>\n",
              "      <td>19</td>\n",
              "      <td>226</td>\n",
              "      <td>115</td>\n",
              "    </tr>\n",
              "    <tr>\n",
              "      <th>230</th>\n",
              "      <td>20</td>\n",
              "      <td>20</td>\n",
              "      <td>20</td>\n",
              "      <td>20</td>\n",
              "      <td>20</td>\n",
              "      <td>20</td>\n",
              "      <td>20</td>\n",
              "      <td>22</td>\n",
              "      <td>56</td>\n",
              "      <td>20</td>\n",
              "    </tr>\n",
              "    <tr>\n",
              "      <th>231</th>\n",
              "      <td>15</td>\n",
              "      <td>15</td>\n",
              "      <td>15</td>\n",
              "      <td>15</td>\n",
              "      <td>55</td>\n",
              "      <td>127</td>\n",
              "      <td>195</td>\n",
              "      <td>155</td>\n",
              "      <td>103</td>\n",
              "      <td>23</td>\n",
              "    </tr>\n",
              "    <tr>\n",
              "      <th>232</th>\n",
              "      <td>11</td>\n",
              "      <td>11</td>\n",
              "      <td>11</td>\n",
              "      <td>11</td>\n",
              "      <td>11</td>\n",
              "      <td>12</td>\n",
              "      <td>11</td>\n",
              "      <td>536</td>\n",
              "      <td>718</td>\n",
              "      <td>425</td>\n",
              "    </tr>\n",
              "  </tbody>\n",
              "</table>\n",
              "<p>233 rows × 10 columns</p>\n",
              "</div>\n",
              "      <button class=\"colab-df-convert\" onclick=\"convertToInteractive('df-2504a380-4b87-40c6-ac7a-6dee614c809b')\"\n",
              "              title=\"Convert this dataframe to an interactive table.\"\n",
              "              style=\"display:none;\">\n",
              "        \n",
              "  <svg xmlns=\"http://www.w3.org/2000/svg\" height=\"24px\"viewBox=\"0 0 24 24\"\n",
              "       width=\"24px\">\n",
              "    <path d=\"M0 0h24v24H0V0z\" fill=\"none\"/>\n",
              "    <path d=\"M18.56 5.44l.94 2.06.94-2.06 2.06-.94-2.06-.94-.94-2.06-.94 2.06-2.06.94zm-11 1L8.5 8.5l.94-2.06 2.06-.94-2.06-.94L8.5 2.5l-.94 2.06-2.06.94zm10 10l.94 2.06.94-2.06 2.06-.94-2.06-.94-.94-2.06-.94 2.06-2.06.94z\"/><path d=\"M17.41 7.96l-1.37-1.37c-.4-.4-.92-.59-1.43-.59-.52 0-1.04.2-1.43.59L10.3 9.45l-7.72 7.72c-.78.78-.78 2.05 0 2.83L4 21.41c.39.39.9.59 1.41.59.51 0 1.02-.2 1.41-.59l7.78-7.78 2.81-2.81c.8-.78.8-2.07 0-2.86zM5.41 20L4 18.59l7.72-7.72 1.47 1.35L5.41 20z\"/>\n",
              "  </svg>\n",
              "      </button>\n",
              "      \n",
              "  <style>\n",
              "    .colab-df-container {\n",
              "      display:flex;\n",
              "      flex-wrap:wrap;\n",
              "      gap: 12px;\n",
              "    }\n",
              "\n",
              "    .colab-df-convert {\n",
              "      background-color: #E8F0FE;\n",
              "      border: none;\n",
              "      border-radius: 50%;\n",
              "      cursor: pointer;\n",
              "      display: none;\n",
              "      fill: #1967D2;\n",
              "      height: 32px;\n",
              "      padding: 0 0 0 0;\n",
              "      width: 32px;\n",
              "    }\n",
              "\n",
              "    .colab-df-convert:hover {\n",
              "      background-color: #E2EBFA;\n",
              "      box-shadow: 0px 1px 2px rgba(60, 64, 67, 0.3), 0px 1px 3px 1px rgba(60, 64, 67, 0.15);\n",
              "      fill: #174EA6;\n",
              "    }\n",
              "\n",
              "    [theme=dark] .colab-df-convert {\n",
              "      background-color: #3B4455;\n",
              "      fill: #D2E3FC;\n",
              "    }\n",
              "\n",
              "    [theme=dark] .colab-df-convert:hover {\n",
              "      background-color: #434B5C;\n",
              "      box-shadow: 0px 1px 3px 1px rgba(0, 0, 0, 0.15);\n",
              "      filter: drop-shadow(0px 1px 2px rgba(0, 0, 0, 0.3));\n",
              "      fill: #FFFFFF;\n",
              "    }\n",
              "  </style>\n",
              "\n",
              "      <script>\n",
              "        const buttonEl =\n",
              "          document.querySelector('#df-2504a380-4b87-40c6-ac7a-6dee614c809b button.colab-df-convert');\n",
              "        buttonEl.style.display =\n",
              "          google.colab.kernel.accessAllowed ? 'block' : 'none';\n",
              "\n",
              "        async function convertToInteractive(key) {\n",
              "          const element = document.querySelector('#df-2504a380-4b87-40c6-ac7a-6dee614c809b');\n",
              "          const dataTable =\n",
              "            await google.colab.kernel.invokeFunction('convertToInteractive',\n",
              "                                                     [key], {});\n",
              "          if (!dataTable) return;\n",
              "\n",
              "          const docLinkHtml = 'Like what you see? Visit the ' +\n",
              "            '<a target=\"_blank\" href=https://colab.research.google.com/notebooks/data_table.ipynb>data table notebook</a>'\n",
              "            + ' to learn more about interactive tables.';\n",
              "          element.innerHTML = '';\n",
              "          dataTable['output_type'] = 'display_data';\n",
              "          await google.colab.output.renderOutput(dataTable, element);\n",
              "          const docLink = document.createElement('div');\n",
              "          docLink.innerHTML = docLinkHtml;\n",
              "          element.appendChild(docLink);\n",
              "        }\n",
              "      </script>\n",
              "    </div>\n",
              "  </div>\n",
              "  "
            ],
            "text/plain": [
              "       1    2    3    4    5    6    7    8    9   10\n",
              "0      8   12    8    8    8    8    8   14   16    8\n",
              "1     73   16    7    7    7    7    7   13   43   13\n",
              "2      6    8    6    6    6    6    6    6    8   26\n",
              "3    134   82   78   38   18   22   28   36  352   58\n",
              "4    471  468  216   75    6   30   66  141  699  183\n",
              "..   ...  ...  ...  ...  ...  ...  ...  ...  ...  ...\n",
              "228   52  116  190  102  276  372  316    4   96  132\n",
              "229    1    1    1    1    1   37   37   19  226  115\n",
              "230   20   20   20   20   20   20   20   22   56   20\n",
              "231   15   15   15   15   55  127  195  155  103   23\n",
              "232   11   11   11   11   11   12   11  536  718  425\n",
              "\n",
              "[233 rows x 10 columns]"
            ]
          },
          "metadata": {},
          "execution_count": 54
        }
      ]
    },
    {
      "cell_type": "code",
      "source": [
        "y_test=df1.iloc[:,10]\n",
        "y_test\n",
        "categorical_features_indices = np.where(x_train.dtypes != np.float)[0]"
      ],
      "metadata": {
        "id": "pIp13PvVg_xC"
      },
      "execution_count": 58,
      "outputs": []
    },
    {
      "cell_type": "code",
      "source": [
        "from catboost import CatBoostRegressor\n",
        "model=CatBoostRegressor(iterations=50, depth=3, learning_rate=0.1, loss_function='RMSE')\n",
        "model.fit(x_train, y_train,eval_set=(x_test, y_test),plot=True)"
      ],
      "metadata": {
        "colab": {
          "base_uri": "https://localhost:8080/",
          "height": 1000,
          "referenced_widgets": [
            "cf3a6d4e9377471aadcdb0d7f7be4ba6"
          ]
        },
        "id": "UpEUB8G_hJjr",
        "outputId": "8f258273-47c7-4651-b7bf-d3a9b6d7eb1b"
      },
      "execution_count": 59,
      "outputs": [
        {
          "output_type": "stream",
          "name": "stderr",
          "text": [
            "Custom logger is already specified. Specify more than one logger at same time is not thread safe."
          ]
        },
        {
          "output_type": "display_data",
          "data": {
            "application/vnd.jupyter.widget-view+json": {
              "model_id": "cf3a6d4e9377471aadcdb0d7f7be4ba6",
              "version_minor": 0,
              "version_major": 2
            },
            "text/plain": [
              "MetricVisualizer(layout=Layout(align_self='stretch', height='500px'))"
            ]
          },
          "metadata": {}
        },
        {
          "output_type": "stream",
          "name": "stdout",
          "text": [
            "0:\tlearn: 692.7583241\ttest: 246.7150436\tbest: 246.7150436 (0)\ttotal: 50.8ms\tremaining: 2.49s\n",
            "1:\tlearn: 659.7386462\ttest: 236.0576006\tbest: 236.0576006 (1)\ttotal: 52.4ms\tremaining: 1.26s\n",
            "2:\tlearn: 628.3078068\ttest: 218.1356249\tbest: 218.1356249 (2)\ttotal: 53.4ms\tremaining: 836ms\n",
            "3:\tlearn: 597.1805710\ttest: 206.5291351\tbest: 206.5291351 (3)\ttotal: 54.4ms\tremaining: 625ms\n",
            "4:\tlearn: 575.2192089\ttest: 199.5162949\tbest: 199.5162949 (4)\ttotal: 55.4ms\tremaining: 498ms\n",
            "5:\tlearn: 550.1381990\ttest: 192.2892274\tbest: 192.2892274 (5)\ttotal: 56.4ms\tremaining: 413ms\n",
            "6:\tlearn: 527.3555223\ttest: 184.3497791\tbest: 184.3497791 (6)\ttotal: 57.4ms\tremaining: 352ms\n",
            "7:\tlearn: 508.6646259\ttest: 175.4893116\tbest: 175.4893116 (7)\ttotal: 58.4ms\tremaining: 306ms\n",
            "8:\tlearn: 488.4327386\ttest: 172.0546715\tbest: 172.0546715 (8)\ttotal: 59.4ms\tremaining: 270ms\n",
            "9:\tlearn: 469.7742393\ttest: 167.9847008\tbest: 167.9847008 (9)\ttotal: 60.3ms\tremaining: 241ms\n",
            "10:\tlearn: 452.6201738\ttest: 164.8406736\tbest: 164.8406736 (10)\ttotal: 61.3ms\tremaining: 217ms\n",
            "11:\tlearn: 441.3179976\ttest: 162.5615937\tbest: 162.5615937 (11)\ttotal: 62.3ms\tremaining: 197ms\n",
            "12:\tlearn: 428.2369185\ttest: 162.6430115\tbest: 162.5615937 (11)\ttotal: 63.3ms\tremaining: 180ms\n",
            "13:\tlearn: 414.3258575\ttest: 161.5706723\tbest: 161.5706723 (13)\ttotal: 64.5ms\tremaining: 166ms\n",
            "14:\tlearn: 407.2677332\ttest: 160.5846971\tbest: 160.5846971 (14)\ttotal: 65.6ms\tremaining: 153ms\n",
            "15:\tlearn: 401.7897543\ttest: 160.0133721\tbest: 160.0133721 (15)\ttotal: 66.6ms\tremaining: 142ms\n",
            "16:\tlearn: 391.2942782\ttest: 159.4859467\tbest: 159.4859467 (16)\ttotal: 67.6ms\tremaining: 131ms\n",
            "17:\tlearn: 380.0407784\ttest: 158.4708695\tbest: 158.4708695 (17)\ttotal: 68.6ms\tremaining: 122ms\n",
            "18:\tlearn: 375.6499395\ttest: 158.9354860\tbest: 158.4708695 (17)\ttotal: 69.6ms\tremaining: 114ms\n",
            "19:\tlearn: 369.0451303\ttest: 161.6859534\tbest: 158.4708695 (17)\ttotal: 70.6ms\tremaining: 106ms\n",
            "20:\tlearn: 365.2663950\ttest: 163.0349804\tbest: 158.4708695 (17)\ttotal: 71.6ms\tremaining: 98.8ms\n",
            "21:\tlearn: 356.4456518\ttest: 161.2302723\tbest: 158.4708695 (17)\ttotal: 72.5ms\tremaining: 92.3ms\n",
            "22:\tlearn: 347.5592813\ttest: 157.3607929\tbest: 157.3607929 (22)\ttotal: 73.5ms\tremaining: 86.3ms\n",
            "23:\tlearn: 343.9814912\ttest: 157.4534794\tbest: 157.3607929 (22)\ttotal: 74.5ms\tremaining: 80.7ms\n",
            "24:\tlearn: 335.4072314\ttest: 156.7917741\tbest: 156.7917741 (24)\ttotal: 75.4ms\tremaining: 75.4ms\n",
            "25:\tlearn: 331.5085510\ttest: 158.9441515\tbest: 156.7917741 (24)\ttotal: 76.4ms\tremaining: 70.5ms\n",
            "26:\tlearn: 327.8161182\ttest: 159.1604335\tbest: 156.7917741 (24)\ttotal: 77.4ms\tremaining: 65.9ms\n",
            "27:\tlearn: 324.6391889\ttest: 159.2572555\tbest: 156.7917741 (24)\ttotal: 78.5ms\tremaining: 61.6ms\n",
            "28:\tlearn: 318.1259159\ttest: 156.8505272\tbest: 156.7917741 (24)\ttotal: 79.6ms\tremaining: 57.7ms\n",
            "29:\tlearn: 315.2177088\ttest: 157.2373284\tbest: 156.7917741 (24)\ttotal: 80.6ms\tremaining: 53.7ms\n",
            "30:\tlearn: 312.3746545\ttest: 157.4860421\tbest: 156.7917741 (24)\ttotal: 81.6ms\tremaining: 50ms\n",
            "31:\tlearn: 308.3461236\ttest: 160.3961143\tbest: 156.7917741 (24)\ttotal: 82.6ms\tremaining: 46.5ms\n",
            "32:\tlearn: 305.5922574\ttest: 160.3054576\tbest: 156.7917741 (24)\ttotal: 83.6ms\tremaining: 43.1ms\n",
            "33:\tlearn: 299.3938959\ttest: 163.0280769\tbest: 156.7917741 (24)\ttotal: 84.6ms\tremaining: 39.8ms\n",
            "34:\tlearn: 296.8852118\ttest: 163.0839718\tbest: 156.7917741 (24)\ttotal: 85.7ms\tremaining: 36.7ms\n",
            "35:\tlearn: 294.7196311\ttest: 163.5076885\tbest: 156.7917741 (24)\ttotal: 86.8ms\tremaining: 33.7ms\n",
            "36:\tlearn: 290.8038297\ttest: 166.3703430\tbest: 156.7917741 (24)\ttotal: 87.5ms\tremaining: 30.7ms\n",
            "37:\tlearn: 288.7440001\ttest: 166.7637691\tbest: 156.7917741 (24)\ttotal: 88.5ms\tremaining: 27.9ms\n",
            "38:\tlearn: 286.6319681\ttest: 167.2405442\tbest: 156.7917741 (24)\ttotal: 89.5ms\tremaining: 25.2ms\n",
            "39:\tlearn: 283.7534009\ttest: 168.8869629\tbest: 156.7917741 (24)\ttotal: 90.5ms\tremaining: 22.6ms\n",
            "40:\tlearn: 276.4732205\ttest: 172.0227817\tbest: 156.7917741 (24)\ttotal: 91.6ms\tremaining: 20.1ms\n",
            "41:\tlearn: 274.5087390\ttest: 172.2587951\tbest: 156.7917741 (24)\ttotal: 92.6ms\tremaining: 17.6ms\n",
            "42:\tlearn: 268.9934094\ttest: 173.7319172\tbest: 156.7917741 (24)\ttotal: 93.5ms\tremaining: 15.2ms\n",
            "43:\tlearn: 264.1587882\ttest: 174.7258926\tbest: 156.7917741 (24)\ttotal: 94.5ms\tremaining: 12.9ms\n",
            "44:\tlearn: 261.5764317\ttest: 177.0153269\tbest: 156.7917741 (24)\ttotal: 95.5ms\tremaining: 10.6ms\n",
            "45:\tlearn: 259.2805170\ttest: 177.8847568\tbest: 156.7917741 (24)\ttotal: 96.5ms\tremaining: 8.39ms\n",
            "46:\tlearn: 257.8061591\ttest: 178.2659718\tbest: 156.7917741 (24)\ttotal: 97.5ms\tremaining: 6.22ms\n",
            "47:\tlearn: 256.4340841\ttest: 178.4797543\tbest: 156.7917741 (24)\ttotal: 98.5ms\tremaining: 4.1ms\n",
            "48:\tlearn: 254.0612498\ttest: 180.2085462\tbest: 156.7917741 (24)\ttotal: 99.7ms\tremaining: 2.03ms\n",
            "49:\tlearn: 250.7356622\ttest: 180.0035398\tbest: 156.7917741 (24)\ttotal: 101ms\tremaining: 0us\n",
            "\n",
            "bestTest = 156.7917741\n",
            "bestIteration = 24\n",
            "\n",
            "Shrink model to first 25 iterations.\n"
          ]
        },
        {
          "output_type": "execute_result",
          "data": {
            "text/plain": [
              "<catboost.core.CatBoostRegressor at 0x7f43147a77d0>"
            ]
          },
          "metadata": {},
          "execution_count": 59
        }
      ]
    },
    {
      "cell_type": "code",
      "source": [
        "mean_absolute_percentage_error(y_test, model.predict(x_test))"
      ],
      "metadata": {
        "colab": {
          "base_uri": "https://localhost:8080/"
        },
        "id": "BxtxUkdlj2z_",
        "outputId": "bfc3b987-6f25-4e92-e248-fbf44f81dbde"
      },
      "execution_count": 61,
      "outputs": [
        {
          "output_type": "execute_result",
          "data": {
            "text/plain": [
              "8.038188171002858"
            ]
          },
          "metadata": {},
          "execution_count": 61
        }
      ]
    },
    {
      "cell_type": "code",
      "source": [
        ""
      ],
      "metadata": {
        "id": "knRyTg7ItvH0"
      },
      "execution_count": null,
      "outputs": []
    }
  ]
}